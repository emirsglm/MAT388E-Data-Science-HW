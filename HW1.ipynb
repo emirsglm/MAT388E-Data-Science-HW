{
 "cells": [
  {
   "cell_type": "markdown",
   "id": "82588623-fb98-4755-a48d-23ee261ec31a",
   "metadata": {},
   "source": [
    "# Homework #1\n",
    "\n",
    "Remember: You must ingest the data to your notebooks directly from the data server. Also, don't write the same code with modifications to do similar things over and over again. Write a function."
   ]
  },
  {
   "cell_type": "code",
   "execution_count": 16,
   "id": "40ffda9a",
   "metadata": {},
   "outputs": [],
   "source": [
    "import numpy as np\n",
    "import pandas as pd\n",
    "import matplotlib.pyplot as plt \n",
    "import gzip\n",
    "\n",
    "from urllib.request import urlopen\n",
    "from xmltodict import parse\n",
    "from zipfile import ZipFile\n",
    "from io import BytesIO\n",
    "import csv"
   ]
  },
  {
   "cell_type": "markdown",
   "id": "5b934b08-1bfb-414b-a6af-089e1243f854",
   "metadata": {},
   "source": [
    "## Question 1\n",
    "\n",
    "Use [World Bank's Data Service](https://data.worldbank.org/) to retrieve\n",
    "\n",
    "* Literacy rates of women (percentage of females ages 15 and above)\n",
    "* Child mortality rate, under 5 year old. (per 1,000 live births)\n",
    "* Gini index (Economic Inequality)\n",
    "\n",
    "1. Plot each dataset for Turkey from earliest date available until this year.\n",
    "2. Plot the same data for Greece, Bulgaria, Romania, Poland, Syria and Iran for the same periods. \n",
    "3. Do a scatter plot of female literacy rate against child mortality rate for Turkey. Do you see a relation? Which direction do you think the relation works?\n",
    "4. Do a scatter plot of female literacy rate against gini index for Turkey. Do you see a relation? Which direction do you think the relation works?\n",
    "5. Do a scatter plot of child mortality rate against the gini index for Turkey. Do you see a relation? Which direction do you think the relation works?"
   ]
  },
  {
   "cell_type": "code",
   "execution_count": 204,
   "id": "5e27fb88",
   "metadata": {},
   "outputs": [],
   "source": [
    "# Function for opening zipped csv files which belongs to world bank's data service\n",
    "def zipped_csv(x):\n",
    "    with urlopen(x) as url:\n",
    "        zfile = ZipFile(BytesIO(url.read()))\n",
    "        \n",
    "        api_name = None\n",
    "        for i in zfile.namelist():\n",
    "            if i[0]== \"A\":\n",
    "                api_name = i\n",
    "            else:\n",
    "                continue\n",
    "        \n",
    "        zdata= zfile.open(str(api_name))\n",
    "        \n",
    "        data = pd.read_csv(zdata,skiprows=3)\n",
    "        \n",
    "    \n",
    "    return data\n"
   ]
  },
  {
   "cell_type": "code",
   "execution_count": 205,
   "id": "3b0d0bb2-1f44-4cbc-b429-3aa0e19225c5",
   "metadata": {},
   "outputs": [],
   "source": [
    "#Literacy rates of women (percentage of females ages 15 and above)\n",
    "literacy = zipped_csv(\"https://api.worldbank.org/v2/en/indicator/SE.ADT.LITR.FE.ZS?downloadformat=csv\")\n",
    "\n"
   ]
  },
  {
   "cell_type": "code",
   "execution_count": null,
   "id": "c8bf1a5e",
   "metadata": {},
   "outputs": [],
   "source": [
    "#Child mortality rate, under 5 year old. (per 1,000 live births)\n",
    "mortality = zipped_csv(\"https://api.worldbank.org/v2/en/indicator/SH.DYN.MORT?downloadformat=csv\")\n"
   ]
  },
  {
   "cell_type": "code",
   "execution_count": null,
   "id": "764aba30",
   "metadata": {},
   "outputs": [],
   "source": [
    "#Gini index (Economic Inequality)\n",
    "gini = zipped_csv(\"https://api.worldbank.org/v2/en/indicator/SI.POV.GINI?downloadformat=csv\")\n",
    "gini"
   ]
  },
  {
   "cell_type": "code",
   "execution_count": 229,
   "id": "7f9a12fb",
   "metadata": {},
   "outputs": [
    {
     "data": {
      "text/plain": [
       "<pandas.plotting._core.PlotAccessor object at 0x7f8185a31df0>"
      ]
     },
     "execution_count": 229,
     "metadata": {},
     "output_type": "execute_result"
    }
   ],
   "source": [
    "#Question 1.1:\n",
    "\n",
    "\n",
    "literacyTR = literacy.loc[literacy[\"Country Code\"]==\"TUR\"]\n",
    "tur = literacyTR[['1960', '1961', '1962', '1963', '1964', '1965', '1966', '1967', '1968',\n",
    "        '1969', '1970', '1971', '1972', '1973', '1974', '1975', '1976', '1977',\n",
    "        '1978', '1979', '1980', '1981', '1982', '1983', '1984', '1985', '1986',\n",
    "        '1987', '1988', '1989', '1990', '1991', '1992', '1993', '1994', '1995',\n",
    "        '1996', '1997', '1998', '1999', '2000', '2001', '2002', '2003', '2004',\n",
    "        '2005', '2006', '2007', '2008', '2009', '2010', '2011', '2012', '2013',\n",
    "        '2014', '2015', '2016', '2017', '2018', '2019', '2020', '2021']]\n",
    "\n",
    "literacyTR.plot"
   ]
  },
  {
   "cell_type": "markdown",
   "id": "d7df43b5-f6db-48e2-b69a-5b7872322f44",
   "metadata": {},
   "source": [
    "## Question 2\n",
    "\n",
    "Use Istanbul Municipality Data Server to retrieve the data on [Rail Transportation Data](https://data.ibb.gov.tr/dataset/yas-grubuna-gore-rayli-sistemler-istasyon-bazli-yolcu-ve-yolculuk-sayilari).\n",
    "\n",
    "1. Explore the dataset and explain each column.\n",
    "2. Notice that the longitude and lattitude data is not recorded correctly. However, it is easy to correct the data. Explain how you would correct it and then write a function to correct it.\n",
    "3. Notice that the passenger information is split according to age brackets. Find the total number of passengers for each station ~~in each month~~ and store it in a pandas dataframe. Then plot it on a map of Istanbul. Use disks of different sizes depending on the total number of passengers.\n",
    "4. Write a function that accepts the age bracket as input (<20, 20-30, 30-60, 60+, unknown) and returns a probability an array of maps (dictionaries) of the form\n",
    "\n",
    "    {Station Name: probability that the specific age bracket uses the station}\n",
    "5. The return value for the function you wrote above is a probability distribution on the set of stations, i.e. the usage patterns of different age brackets. Figure out which stations are favored by each age bracket.\n",
    "6. How do we check that the usage patterns for different age brackets are different? Use your idea to write a code to check for these differences."
   ]
  },
  {
   "cell_type": "code",
   "execution_count": 244,
   "id": "b97bb9d3-aaa7-4647-b4a0-e9f6d5f72f11",
   "metadata": {},
   "outputs": [
    {
     "data": {
      "text/plain": [
       "0         1\n",
       "1         1\n",
       "2         1\n",
       "3         1\n",
       "4         1\n",
       "         ..\n",
       "17077    12\n",
       "17078    12\n",
       "17079    12\n",
       "17080    12\n",
       "17081    12\n",
       "Name: transaction_month, Length: 17082, dtype: int64"
      ]
     },
     "execution_count": 244,
     "metadata": {},
     "output_type": "execute_result"
    }
   ],
   "source": [
    "\n",
    "with urlopen(\"https://data.ibb.gov.tr/dataset/d3df8db4-1ac6-4bfe-8896-7ec1159caa2b/resource/7aec630d-2757-4da0-97f1-71b140abd818/download/2021-yl-ya-grubuna-gore-rayl-sistemler-istasyon-bazl-yolcu-ve-yolculuk-saylar.xlsx\") as url:\n",
    "    data = pd.read_excel(url.read())\n",
    "\n",
    "\n",
    "\n",
    "data['transaction_month']\n"
   ]
  },
  {
   "cell_type": "markdown",
   "id": "ffbd7c40-b9c3-4df6-a637-d38bb44f0f1f",
   "metadata": {},
   "source": [
    "# Question 3\n",
    "\n",
    "For this question use Yahoo Finance API via [yfinance](https://pypi.org/project/yfinance/) library. Retrieve the data for Microsoft [MSFT], Apple [AAPL] and NASDAQ-100 [NDX]. from January 1, 2000.\n",
    "\n",
    "1. Calculate the log of each series, and then calculate the first derivative of the result. What you got is called the [log-return](https://core.ac.uk/download/pdf/161062652.pdf) of each series. \n",
    "2. Merge the series you obtain in Step 1 into a single pandas dataframe.\n",
    "3. Plot the histograms of results you obtained above (use 10 bins).\n",
    "4. Plot all three series in a single plot to compare. Do you see a relationship? \n",
    "5. How do we see if there are any correlations between these series? What is the statistically correct way of testing it? Find the right statistical test and measure all three correlations."
   ]
  },
  {
   "cell_type": "code",
   "execution_count": null,
   "id": "283c3ae9-a7fa-4264-ac2f-e975f8f0619d",
   "metadata": {},
   "outputs": [],
   "source": []
  }
 ],
 "metadata": {
  "kernelspec": {
   "display_name": "Python 3.10.0 64-bit",
   "language": "python",
   "name": "python3"
  },
  "language_info": {
   "codemirror_mode": {
    "name": "ipython",
    "version": 3
   },
   "file_extension": ".py",
   "mimetype": "text/x-python",
   "name": "python",
   "nbconvert_exporter": "python",
   "pygments_lexer": "ipython3",
   "version": "3.10.0"
  },
  "vscode": {
   "interpreter": {
    "hash": "aee8b7b246df8f9039afb4144a1f6fd8d2ca17a180786b69acc140d282b71a49"
   }
  }
 },
 "nbformat": 4,
 "nbformat_minor": 5
}
