{
 "cells": [
  {
   "cell_type": "markdown",
   "id": "f53c03e0-c8c7-40bb-a814-c4de469821b7",
   "metadata": {},
   "source": [
    "# Question 1\n",
    "\n",
    "For this question use the World Bank Data for Turkey for the following indicators. Use [wbgapi](https://pypi.org/project/wbgapi/) for getting the data.\n",
    "\n",
    "* [Literacy rate, adult female (SE.ADT.LITR.FE.ZS)](https://data.worldbank.org/indicator/SE.ADT.LITR.FE.ZS)\n",
    "* [Labor force, female (SL.TLF.TOTL.FE.ZS)](https://data.worldbank.org/indicator/SL.TLF.TOTL.FE.ZS)\n",
    "* [Poverty headcount ratio at national poverty lines (SI.POV.NAHC)](https://data.worldbank.org/indicator/SI.POV.NAHC)\n",
    "* [Current health expenditure per capita (SH.XPD.CHEX.PC.CD)](https://data.worldbank.org/indicator/SH.XPD.CHEX.PC.CD)\n",
    "* [GDP per capita (NY.GDP.PCAP.CD)](https://data.worldbank.org/indicator/NY.GDP.PCAP.CD)\n",
    "* [Mortality rate, under-5 (SH.DYN.MORT)](https://data.worldbank.org/indicator/SH.DYN.MORT)\n",
    "\n",
    "\n",
    "Using the [statsmodels](https://www.statsmodels.org/stable/index.html) library write the best linear regression model using child mortality as the dependent variable while the rest are considered as independent variables. Pay particular attention to the fact that the order of the variables put into the model significantly impacts the performance of the model. Choose the best model by considering\n",
    "\n",
    "* with the minimum number of variables and their interactions,\n",
    "* with the optimal ordering of the independent variables and their interactions,\n",
    "* $R^2$-score of the model,\n",
    "* statistical significance of the model coefficients,\n",
    "* ANOVA analysis of the model.\n"
   ]
  },
  {
   "cell_type": "code",
   "execution_count": 4,
   "id": "01bfd781-552b-4005-bc26-f3d3a7008e2e",
   "metadata": {},
   "outputs": [],
   "source": [
    "import wbgapi as wb\n",
    "import numpy as np\n",
    "import pandas as pd\n",
    "import statsmodels.api as sm\n",
    "import statsmodels.formula.api as smf\n",
    "import matplotlib.pyplot as plt \n",
    "import seaborn as sns\n",
    "from statsmodels.formula.api import ols\n",
    "import seaborn as sns\n",
    "from sklearn import preprocessing\n",
    "\n"
   ]
  },
  {
   "cell_type": "code",
   "execution_count": null,
   "id": "7297b4ea",
   "metadata": {},
   "outputs": [],
   "source": [
    "labor = pd.DataFrame(list(wb.data.fetch('SL.TLF.TOTL.FE.ZS')))\n"
   ]
  },
  {
   "cell_type": "code",
   "execution_count": null,
   "id": "31886a2b",
   "metadata": {},
   "outputs": [],
   "source": [
    "litrate = pd.DataFrame(list(wb.data.fetch('SE.ADT.LITR.FE.ZS')))\n",
    "poverty = pd.DataFrame(list(wb.data.fetch('SI.POV.NAHC')))\n",
    "health = pd.DataFrame(list(wb.data.fetch('SH.XPD.CHEX.PC.CD')))\n",
    "gdp = pd.DataFrame(list(wb.data.fetch('NY.GDP.PCAP.CD')))\n",
    "mortality = pd.DataFrame(list(wb.data.fetch('SH.DYN.MORT')))"
   ]
  },
  {
   "cell_type": "markdown",
   "id": "1d6e3510",
   "metadata": {},
   "source": [
    "I wrote a function \"*extract*\" which takes data and name of data as input and returns Turkey's value column in the data"
   ]
  },
  {
   "cell_type": "code",
   "execution_count": null,
   "id": "8b444ebe",
   "metadata": {},
   "outputs": [],
   "source": [
    "def extract(df,name):\n",
    "    tmp = df[['time','value']][df['economy']==\"TUR\"]\n",
    "    tmp.index = tmp.time\n",
    "    del tmp['time']\n",
    "    tmp.columns = [[name]]\n",
    "    return tmp\n"
   ]
  },
  {
   "cell_type": "markdown",
   "id": "eff1f163",
   "metadata": {},
   "source": [
    "*data_prep* function takes dependent variable, names of dependent variable, features of dependent variable and names of features ad input, then returns a adjoint dataframe which consist dependent variable and it's features\n",
    "\n",
    "*mls_model* function takes adjoint dataframe which returned by data_prep function, name of dependent variable and the names of features as input, then returns a ordinary linear regression model"
   ]
  },
  {
   "cell_type": "code",
   "execution_count": null,
   "id": "57177243",
   "metadata": {},
   "outputs": [],
   "source": [
    "def data_prep(main,name,features,names):\n",
    "    dependent = extract(main,str(name))\n",
    "    \n",
    "    arr = []\n",
    "    for i in range(len(names)):\n",
    "        arr.append(extract(features[i],names[i]))\n",
    "\n",
    "    res = dependent.join(arr)\n",
    "    res.dropna(inplace=True)\n",
    "\n",
    "\n",
    "    return res\n",
    "\n",
    "def mls_model(res,name,names):\n",
    "    \n",
    "    string = \" + \".join(names)\n",
    "    model = ols(name+' ~ '+string, data=res).fit()\n",
    "    \n",
    "    return model\n",
    "\n",
    "   \n"
   ]
  },
  {
   "cell_type": "markdown",
   "id": "f2ddc453",
   "metadata": {},
   "source": [
    "I wanted to make index values integers so i wrote a for loop"
   ]
  },
  {
   "cell_type": "code",
   "execution_count": null,
   "id": "8424cd65",
   "metadata": {},
   "outputs": [],
   "source": [
    "features = [labor,poverty,health,gdp,litrate]\n",
    "names = [\"labor\",\"poverty\",\"health\",\"gdp\",\"litrate\"]\n",
    "\n",
    "for j in features:\n",
    "    res = i\n",
    "    arr=[]\n",
    "    for i in res['time']:\n",
    "        arr.append(int(i[2:]))\n",
    "\n",
    "    res[\"time\"] = arr\n",
    "    res"
   ]
  },
  {
   "cell_type": "markdown",
   "id": "7dab61dc",
   "metadata": {},
   "source": [
    "To create a model I made a correlation map and "
   ]
  },
  {
   "cell_type": "code",
   "execution_count": null,
   "id": "afad615e",
   "metadata": {},
   "outputs": [
    {
     "data": {
      "text/plain": [
       "<AxesSubplot:xlabel='None', ylabel='None'>"
      ]
     },
     "execution_count": 640,
     "metadata": {},
     "output_type": "execute_result"
    },
    {
     "data": {
      "image/png": "[encoded data removed]",
      "text/plain": [
       "<Figure size 432x288 with 2 Axes>"
      ]
     },
     "metadata": {
      "needs_background": "light"
     },
     "output_type": "display_data"
    }
   ],
   "source": [
    "\n",
    "data = data_prep(mortality,\"mortality\",features,names)\n",
    "sns.heatmap(data.corr(), cmap=\"YlGnBu\", annot=True)\n",
    "\n"
   ]
  },
  {
   "cell_type": "code",
   "execution_count": null,
   "id": "9443e720",
   "metadata": {},
   "outputs": [
    {
     "name": "stdout",
     "output_type": "stream",
     "text": [
      "                            OLS Regression Results                            \n",
      "==============================================================================\n",
      "Dep. Variable:              mortality   R-squared:                       0.846\n",
      "Model:                            OLS   Adj. R-squared:                  0.835\n",
      "Method:                 Least Squares   F-statistic:                     77.13\n",
      "Date:                Fri, 04 Nov 2022   Prob (F-statistic):           4.55e-07\n",
      "Time:                        18:00:10   Log-Likelihood:                -37.834\n",
      "No. Observations:                  16   AIC:                             79.67\n",
      "Df Residuals:                      14   BIC:                             81.21\n",
      "Df Model:                           1                                         \n",
      "Covariance Type:            nonrobust                                         \n",
      "==============================================================================\n",
      "                 coef    std err          t      P>|t|      [0.025      0.975]\n",
      "------------------------------------------------------------------------------\n",
      "Intercept    -19.3174      4.286     -4.508      0.000     -28.509     -10.126\n",
      "poverty        2.2967      0.262      8.782      0.000       1.736       2.858\n",
      "==============================================================================\n",
      "Omnibus:                        2.176   Durbin-Watson:                   0.717\n",
      "Prob(Omnibus):                  0.337   Jarque-Bera (JB):                0.674\n",
      "Skew:                           0.436   Prob(JB):                        0.714\n",
      "Kurtosis:                       3.501   Cond. No.                         102.\n",
      "==============================================================================\n",
      "\n",
      "Notes:\n",
      "[1] Standard Errors assume that the covariance matrix of the errors is correctly specified.\n"
     ]
    },
    {
     "name": "stderr",
     "output_type": "stream",
     "text": [
      "/Users/emirysaglam/opt/anaconda3/lib/python3.9/site-packages/scipy/stats/stats.py:1541: UserWarning: kurtosistest only valid for n>=20 ... continuing anyway, n=16\n",
      "  warnings.warn(\"kurtosistest only valid for n>=20 ... continuing \"\n"
     ]
    },
    {
     "data": {
      "text/plain": [
       "[<matplotlib.lines.Line2D at 0x7fdbea6a9b50>]"
      ]
     },
     "execution_count": 648,
     "metadata": {},
     "output_type": "execute_result"
    },
    {
     "data": {
      "image/png": "[encoded data removed]",
      "text/plain": [
       "<Figure size 432x288 with 1 Axes>"
      ]
     },
     "metadata": {
      "needs_background": "light"
     },
     "output_type": "display_data"
    }
   ],
   "source": [
    "features = [poverty]\n",
    "names = [\"poverty\"]\n",
    "\n",
    "\n",
    "data = data_prep(mortality,\"mortality\",features,names)\n",
    "model = mls_model(data,\"mortality\",names)\n",
    "\n",
    "y = data[[\"mortality\"]]\n",
    "x = data[[\"poverty\"]]\n",
    "\n",
    "a,b = model.params\n",
    "\n",
    "\n",
    "print(model.summary())\n",
    "\n",
    "sm.stats.anova_lm(model)\n",
    "\n",
    "plt.scatter(x,y,c='red')\n",
    "plt.plot(x,a + b*x)\n",
    "\n"
   ]
  },
  {
   "cell_type": "code",
   "execution_count": null,
   "id": "0aecbfe3",
   "metadata": {},
   "outputs": [
    {
     "name": "stdout",
     "output_type": "stream",
     "text": [
      "                            OLS Regression Results                            \n",
      "==============================================================================\n",
      "Dep. Variable:              mortality   R-squared:                       0.985\n",
      "Model:                            OLS   Adj. R-squared:                  0.981\n",
      "Method:                 Least Squares   F-statistic:                     219.7\n",
      "Date:                Fri, 04 Nov 2022   Prob (F-statistic):           2.01e-09\n",
      "Time:                        18:00:21   Log-Likelihood:                -14.444\n",
      "No. Observations:                  14   AIC:                             36.89\n",
      "Df Residuals:                      10   BIC:                             39.44\n",
      "Df Model:                           3                                         \n",
      "Covariance Type:            nonrobust                                         \n",
      "==============================================================================\n",
      "                 coef    std err          t      P>|t|      [0.025      0.975]\n",
      "------------------------------------------------------------------------------\n",
      "Intercept     68.5870      8.976      7.641      0.000      48.588      88.586\n",
      "health        -0.0189      0.005     -3.654      0.004      -0.030      -0.007\n",
      "litrate        0.5772      0.353      1.634      0.133      -0.210       1.364\n",
      "labor         -3.1464      0.703     -4.473      0.001      -4.714      -1.579\n",
      "==============================================================================\n",
      "Omnibus:                        3.706   Durbin-Watson:                   1.908\n",
      "Prob(Omnibus):                  0.157   Jarque-Bera (JB):                2.350\n",
      "Skew:                           0.998   Prob(JB):                        0.309\n",
      "Kurtosis:                       2.792   Cond. No.                     2.02e+04\n",
      "==============================================================================\n",
      "\n",
      "Notes:\n",
      "[1] Standard Errors assume that the covariance matrix of the errors is correctly specified.\n",
      "[2] The condition number is large, 2.02e+04. This might indicate that there are\n",
      "strong multicollinearity or other numerical problems.\n"
     ]
    },
    {
     "name": "stderr",
     "output_type": "stream",
     "text": [
      "/Users/emirysaglam/opt/anaconda3/lib/python3.9/site-packages/scipy/stats/stats.py:1541: UserWarning: kurtosistest only valid for n>=20 ... continuing anyway, n=14\n",
      "  warnings.warn(\"kurtosistest only valid for n>=20 ... continuing \"\n"
     ]
    },
    {
     "data": {
      "text/html": [
       "<div>\n",
       "<style scoped>\n",
       "    .dataframe tbody tr th:only-of-type {\n",
       "        vertical-align: middle;\n",
       "    }\n",
       "\n",
       "    .dataframe tbody tr th {\n",
       "        vertical-align: top;\n",
       "    }\n",
       "\n",
       "    .dataframe thead th {\n",
       "        text-align: right;\n",
       "    }\n",
       "</style>\n",
       "<table border=\"1\" class=\"dataframe\">\n",
       "  <thead>\n",
       "    <tr style=\"text-align: right;\">\n",
       "      <th></th>\n",
       "      <th>df</th>\n",
       "      <th>sum_sq</th>\n",
       "      <th>mean_sq</th>\n",
       "      <th>F</th>\n",
       "      <th>PR(&gt;F)</th>\n",
       "    </tr>\n",
       "  </thead>\n",
       "  <tbody>\n",
       "    <tr>\n",
       "      <th>health</th>\n",
       "      <td>1.0</td>\n",
       "      <td>87.873735</td>\n",
       "      <td>87.873735</td>\n",
       "      <td>136.165003</td>\n",
       "      <td>3.798810e-07</td>\n",
       "    </tr>\n",
       "    <tr>\n",
       "      <th>litrate</th>\n",
       "      <td>1.0</td>\n",
       "      <td>324.518432</td>\n",
       "      <td>324.518432</td>\n",
       "      <td>502.858486</td>\n",
       "      <td>6.993128e-10</td>\n",
       "    </tr>\n",
       "    <tr>\n",
       "      <th>labor</th>\n",
       "      <td>1.0</td>\n",
       "      <td>12.911502</td>\n",
       "      <td>12.911502</td>\n",
       "      <td>20.007055</td>\n",
       "      <td>1.192009e-03</td>\n",
       "    </tr>\n",
       "    <tr>\n",
       "      <th>Residual</th>\n",
       "      <td>10.0</td>\n",
       "      <td>6.453474</td>\n",
       "      <td>0.645347</td>\n",
       "      <td>NaN</td>\n",
       "      <td>NaN</td>\n",
       "    </tr>\n",
       "  </tbody>\n",
       "</table>\n",
       "</div>"
      ],
      "text/plain": [
       "            df      sum_sq     mean_sq           F        PR(>F)\n",
       "health     1.0   87.873735   87.873735  136.165003  3.798810e-07\n",
       "litrate    1.0  324.518432  324.518432  502.858486  6.993128e-10\n",
       "labor      1.0   12.911502   12.911502   20.007055  1.192009e-03\n",
       "Residual  10.0    6.453474    0.645347         NaN           NaN"
      ]
     },
     "execution_count": 649,
     "metadata": {},
     "output_type": "execute_result"
    }
   ],
   "source": [
    "features = [health,litrate,labor]\n",
    "names = [\"health\",\"litrate\",\"labor\"]\n",
    "\n",
    "\n",
    "data = data_prep(mortality,\"mortality\",features,names)\n",
    "model = mls_model(data,\"mortality\",names)\n",
    "print(model.summary())\n",
    "\n",
    "sm.stats.anova_lm(model)"
   ]
  },
  {
   "cell_type": "markdown",
   "id": "1af3d05f-26e8-4e21-8cc8-5df66f63f49e",
   "metadata": {},
   "source": [
    "# Question 2\n",
    "\n",
    "For this question use Yahoo's Finance API for the following tickers:\n",
    "\n",
    "* Gold futures (GC=F)\n",
    "* Silver futures (SI=F)\n",
    "* Copper futures (HG=F)\n",
    "* Platinum futures (PL=F)\n",
    "\n",
    "1. Write the best linear regression model that explains gold futures closing prices in terms of opening prices of gold, silver, copper, and platinum futures.\n",
    "2. Repeat the same for silver, copper and platinum prices.\n",
    "3. Compare the models you obtained in Steps 1 and 2. Which model is better? How do you decide? Explain."
   ]
  },
  {
   "cell_type": "code",
   "execution_count": 5,
   "id": "a3e5876d-f2b7-4a10-957b-a1c7d0fec178",
   "metadata": {},
   "outputs": [],
   "source": [
    "import yfinance as yf"
   ]
  },
  {
   "cell_type": "code",
   "execution_count": 6,
   "id": "d45022d5",
   "metadata": {},
   "outputs": [
    {
     "name": "stdout",
     "output_type": "stream",
     "text": [
      "[*********************100%***********************]  1 of 1 completed\n",
      "[*********************100%***********************]  1 of 1 completed\n",
      "[*********************100%***********************]  1 of 1 completed\n",
      "[*********************100%***********************]  1 of 1 completed\n"
     ]
    }
   ],
   "source": [
    "gold =yf.download(\"GC=F\",  start = \"2000-01-01\" , end = \"2022-01-31\")\n",
    "silver =yf.download(\"SI=F\",  start = \"2000-01-01\" , end = \"2022-01-31\")\n",
    "copper =yf.download(\"HG=F\",  start = \"2000-01-01\" , end = \"2022-01-31\")\n",
    "plat =yf.download(\"PL=F\",  start = \"2000-01-01\" , end = \"2022-01-31\")\n"
   ]
  },
  {
   "cell_type": "code",
   "execution_count": null,
   "id": "65477523",
   "metadata": {},
   "outputs": [
    {
     "data": {
      "text/html": [
       "<div>\n",
       "<style scoped>\n",
       "    .dataframe tbody tr th:only-of-type {\n",
       "        vertical-align: middle;\n",
       "    }\n",
       "\n",
       "    .dataframe tbody tr th {\n",
       "        vertical-align: top;\n",
       "    }\n",
       "\n",
       "    .dataframe thead th {\n",
       "        text-align: right;\n",
       "    }\n",
       "</style>\n",
       "<table border=\"1\" class=\"dataframe\">\n",
       "  <thead>\n",
       "    <tr style=\"text-align: right;\">\n",
       "      <th></th>\n",
       "      <th>Open</th>\n",
       "      <th>High</th>\n",
       "      <th>Low</th>\n",
       "      <th>Close</th>\n",
       "      <th>Adj Close</th>\n",
       "      <th>Volume</th>\n",
       "    </tr>\n",
       "    <tr>\n",
       "      <th>Date</th>\n",
       "      <th></th>\n",
       "      <th></th>\n",
       "      <th></th>\n",
       "      <th></th>\n",
       "      <th></th>\n",
       "      <th></th>\n",
       "    </tr>\n",
       "  </thead>\n",
       "  <tbody>\n",
       "    <tr>\n",
       "      <th>2000-08-30 00:00:00-04:00</th>\n",
       "      <td>273.899994</td>\n",
       "      <td>273.899994</td>\n",
       "      <td>273.899994</td>\n",
       "      <td>273.899994</td>\n",
       "      <td>273.899994</td>\n",
       "      <td>0</td>\n",
       "    </tr>\n",
       "    <tr>\n",
       "      <th>2000-08-31 00:00:00-04:00</th>\n",
       "      <td>274.799988</td>\n",
       "      <td>278.299988</td>\n",
       "      <td>274.799988</td>\n",
       "      <td>278.299988</td>\n",
       "      <td>278.299988</td>\n",
       "      <td>0</td>\n",
       "    </tr>\n",
       "    <tr>\n",
       "      <th>2000-09-01 00:00:00-04:00</th>\n",
       "      <td>277.000000</td>\n",
       "      <td>277.000000</td>\n",
       "      <td>277.000000</td>\n",
       "      <td>277.000000</td>\n",
       "      <td>277.000000</td>\n",
       "      <td>0</td>\n",
       "    </tr>\n",
       "    <tr>\n",
       "      <th>2000-09-05 00:00:00-04:00</th>\n",
       "      <td>275.799988</td>\n",
       "      <td>275.799988</td>\n",
       "      <td>275.799988</td>\n",
       "      <td>275.799988</td>\n",
       "      <td>275.799988</td>\n",
       "      <td>2</td>\n",
       "    </tr>\n",
       "    <tr>\n",
       "      <th>2000-09-06 00:00:00-04:00</th>\n",
       "      <td>274.200012</td>\n",
       "      <td>274.200012</td>\n",
       "      <td>274.200012</td>\n",
       "      <td>274.200012</td>\n",
       "      <td>274.200012</td>\n",
       "      <td>0</td>\n",
       "    </tr>\n",
       "    <tr>\n",
       "      <th>...</th>\n",
       "      <td>...</td>\n",
       "      <td>...</td>\n",
       "      <td>...</td>\n",
       "      <td>...</td>\n",
       "      <td>...</td>\n",
       "      <td>...</td>\n",
       "    </tr>\n",
       "    <tr>\n",
       "      <th>2022-01-24 00:00:00-05:00</th>\n",
       "      <td>1837.900024</td>\n",
       "      <td>1842.099976</td>\n",
       "      <td>1837.900024</td>\n",
       "      <td>1841.699951</td>\n",
       "      <td>1841.699951</td>\n",
       "      <td>8</td>\n",
       "    </tr>\n",
       "    <tr>\n",
       "      <th>2022-01-25 00:00:00-05:00</th>\n",
       "      <td>1843.000000</td>\n",
       "      <td>1852.699951</td>\n",
       "      <td>1842.000000</td>\n",
       "      <td>1852.699951</td>\n",
       "      <td>1852.699951</td>\n",
       "      <td>11</td>\n",
       "    </tr>\n",
       "    <tr>\n",
       "      <th>2022-01-26 00:00:00-05:00</th>\n",
       "      <td>1829.900024</td>\n",
       "      <td>1829.900024</td>\n",
       "      <td>1829.900024</td>\n",
       "      <td>1829.900024</td>\n",
       "      <td>1829.900024</td>\n",
       "      <td>55</td>\n",
       "    </tr>\n",
       "    <tr>\n",
       "      <th>2022-01-27 00:00:00-05:00</th>\n",
       "      <td>1793.300049</td>\n",
       "      <td>1793.300049</td>\n",
       "      <td>1793.300049</td>\n",
       "      <td>1793.300049</td>\n",
       "      <td>1793.300049</td>\n",
       "      <td>196036</td>\n",
       "    </tr>\n",
       "    <tr>\n",
       "      <th>2022-01-28 00:00:00-05:00</th>\n",
       "      <td>1797.500000</td>\n",
       "      <td>1798.400024</td>\n",
       "      <td>1778.800049</td>\n",
       "      <td>1784.900024</td>\n",
       "      <td>1784.900024</td>\n",
       "      <td>28521</td>\n",
       "    </tr>\n",
       "  </tbody>\n",
       "</table>\n",
       "<p>5373 rows × 6 columns</p>\n",
       "</div>"
      ],
      "text/plain": [
       "                                  Open         High          Low        Close  \\\n",
       "Date                                                                            \n",
       "2000-08-30 00:00:00-04:00   273.899994   273.899994   273.899994   273.899994   \n",
       "2000-08-31 00:00:00-04:00   274.799988   278.299988   274.799988   278.299988   \n",
       "2000-09-01 00:00:00-04:00   277.000000   277.000000   277.000000   277.000000   \n",
       "2000-09-05 00:00:00-04:00   275.799988   275.799988   275.799988   275.799988   \n",
       "2000-09-06 00:00:00-04:00   274.200012   274.200012   274.200012   274.200012   \n",
       "...                                ...          ...          ...          ...   \n",
       "2022-01-24 00:00:00-05:00  1837.900024  1842.099976  1837.900024  1841.699951   \n",
       "2022-01-25 00:00:00-05:00  1843.000000  1852.699951  1842.000000  1852.699951   \n",
       "2022-01-26 00:00:00-05:00  1829.900024  1829.900024  1829.900024  1829.900024   \n",
       "2022-01-27 00:00:00-05:00  1793.300049  1793.300049  1793.300049  1793.300049   \n",
       "2022-01-28 00:00:00-05:00  1797.500000  1798.400024  1778.800049  1784.900024   \n",
       "\n",
       "                             Adj Close  Volume  \n",
       "Date                                            \n",
       "2000-08-30 00:00:00-04:00   273.899994       0  \n",
       "2000-08-31 00:00:00-04:00   278.299988       0  \n",
       "2000-09-01 00:00:00-04:00   277.000000       0  \n",
       "2000-09-05 00:00:00-04:00   275.799988       2  \n",
       "2000-09-06 00:00:00-04:00   274.200012       0  \n",
       "...                                ...     ...  \n",
       "2022-01-24 00:00:00-05:00  1841.699951       8  \n",
       "2022-01-25 00:00:00-05:00  1852.699951      11  \n",
       "2022-01-26 00:00:00-05:00  1829.900024      55  \n",
       "2022-01-27 00:00:00-05:00  1793.300049  196036  \n",
       "2022-01-28 00:00:00-05:00  1784.900024   28521  \n",
       "\n",
       "[5373 rows x 6 columns]"
      ]
     },
     "execution_count": 321,
     "metadata": {},
     "output_type": "execute_result"
    }
   ],
   "source": [
    "gold"
   ]
  },
  {
   "cell_type": "code",
   "execution_count": null,
   "id": "5d288e9f",
   "metadata": {},
   "outputs": [],
   "source": [
    "def extract2(df,name,col):\n",
    "    tmp = df[[str(col)]]\n",
    "    tmp.columns = [[name]]\n",
    "    return tmp"
   ]
  },
  {
   "cell_type": "code",
   "execution_count": null,
   "id": "bfa777d5",
   "metadata": {},
   "outputs": [],
   "source": [
    "def data_prep2(dpn,name,features,names):\n",
    "    dependent = extract2(dpn,str(name),\"Close\")\n",
    "    \n",
    "    arr = []\n",
    "    for i in range(len(names)):\n",
    "        arr.append(extract2(features[i],names[i],\"Open\"))\n",
    "\n",
    "    res = dependent.join(arr)\n",
    "    res.dropna(inplace=True)\n",
    "\n",
    "    return res\n",
    "\n",
    "def mls_model2(res,name,names):\n",
    "    \n",
    "    string = \" + \".join(names)\n",
    "    model = ols(name+' ~ '+string, data=res).fit()\n",
    "    \n",
    "    return model\n",
    "\n",
    "   "
   ]
  },
  {
   "cell_type": "code",
   "execution_count": null,
   "id": "933fff45",
   "metadata": {},
   "outputs": [
    {
     "data": {
      "text/plain": [
       "<AxesSubplot:xlabel='None', ylabel='None'>"
      ]
     },
     "execution_count": 651,
     "metadata": {},
     "output_type": "execute_result"
    },
    {
     "data": {
      "image/png": "[encoded data removed]",
      "text/plain": [
       "<Figure size 432x288 with 2 Axes>"
      ]
     },
     "metadata": {
      "needs_background": "light"
     },
     "output_type": "display_data"
    }
   ],
   "source": [
    "f = [silver,copper,plat]\n",
    "n = [\"silver\",\"copper\",\"plat\"]\n",
    "\n",
    "data = data_prep2(gold,\"gold\",f,n)\n",
    "sns.heatmap(data.corr(), cmap=\"YlGnBu\", annot=True)"
   ]
  },
  {
   "cell_type": "code",
   "execution_count": null,
   "id": "07a652b1",
   "metadata": {},
   "outputs": [
    {
     "name": "stdout",
     "output_type": "stream",
     "text": [
      "                            OLS Regression Results                            \n",
      "==============================================================================\n",
      "Dep. Variable:                   gold   R-squared:                       0.784\n",
      "Model:                            OLS   Adj. R-squared:                  0.783\n",
      "Method:                 Least Squares   F-statistic:                     9716.\n",
      "Date:                Fri, 04 Nov 2022   Prob (F-statistic):               0.00\n",
      "Time:                        18:31:55   Log-Likelihood:                -36874.\n",
      "No. Observations:                5371   AIC:                         7.375e+04\n",
      "Df Residuals:                    5368   BIC:                         7.377e+04\n",
      "Df Model:                           2                                         \n",
      "Covariance Type:            nonrobust                                         \n",
      "==============================================================================\n",
      "                 coef    std err          t      P>|t|      [0.025      0.975]\n",
      "------------------------------------------------------------------------------\n",
      "Intercept    153.1879      8.260     18.546      0.000     136.995     169.381\n",
      "silver        45.4262      0.688     66.005      0.000      44.077      46.775\n",
      "copper        60.9551      5.399     11.291      0.000      50.372      71.538\n",
      "==============================================================================\n",
      "Omnibus:                      110.323   Durbin-Watson:                   0.007\n",
      "Prob(Omnibus):                  0.000   Jarque-Bera (JB):              216.708\n",
      "Skew:                           0.111   Prob(JB):                     8.76e-48\n",
      "Kurtosis:                       3.959   Cond. No.                         52.1\n",
      "==============================================================================\n",
      "\n",
      "Notes:\n",
      "[1] Standard Errors assume that the covariance matrix of the errors is correctly specified.\n"
     ]
    },
    {
     "data": {
      "text/html": [
       "<div>\n",
       "<style scoped>\n",
       "    .dataframe tbody tr th:only-of-type {\n",
       "        vertical-align: middle;\n",
       "    }\n",
       "\n",
       "    .dataframe tbody tr th {\n",
       "        vertical-align: top;\n",
       "    }\n",
       "\n",
       "    .dataframe thead th {\n",
       "        text-align: right;\n",
       "    }\n",
       "</style>\n",
       "<table border=\"1\" class=\"dataframe\">\n",
       "  <thead>\n",
       "    <tr style=\"text-align: right;\">\n",
       "      <th></th>\n",
       "      <th>df</th>\n",
       "      <th>sum_sq</th>\n",
       "      <th>mean_sq</th>\n",
       "      <th>F</th>\n",
       "      <th>PR(&gt;F)</th>\n",
       "    </tr>\n",
       "  </thead>\n",
       "  <tbody>\n",
       "    <tr>\n",
       "      <th>silver</th>\n",
       "      <td>1.0</td>\n",
       "      <td>1.039007e+09</td>\n",
       "      <td>1.039007e+09</td>\n",
       "      <td>19305.182126</td>\n",
       "      <td>0.000000e+00</td>\n",
       "    </tr>\n",
       "    <tr>\n",
       "      <th>copper</th>\n",
       "      <td>1.0</td>\n",
       "      <td>6.861324e+06</td>\n",
       "      <td>6.861324e+06</td>\n",
       "      <td>127.486292</td>\n",
       "      <td>3.099297e-29</td>\n",
       "    </tr>\n",
       "    <tr>\n",
       "      <th>Residual</th>\n",
       "      <td>5368.0</td>\n",
       "      <td>2.889063e+08</td>\n",
       "      <td>5.382009e+04</td>\n",
       "      <td>NaN</td>\n",
       "      <td>NaN</td>\n",
       "    </tr>\n",
       "  </tbody>\n",
       "</table>\n",
       "</div>"
      ],
      "text/plain": [
       "              df        sum_sq       mean_sq             F        PR(>F)\n",
       "silver       1.0  1.039007e+09  1.039007e+09  19305.182126  0.000000e+00\n",
       "copper       1.0  6.861324e+06  6.861324e+06    127.486292  3.099297e-29\n",
       "Residual  5368.0  2.889063e+08  5.382009e+04           NaN           NaN"
      ]
     },
     "execution_count": 654,
     "metadata": {},
     "output_type": "execute_result"
    }
   ],
   "source": [
    "f = [silver,copper]\n",
    "n = [\"silver\",\"copper\",]\n",
    "\n",
    "\n",
    "data = data_prep2(gold,\"gold\",f,n)\n",
    "model = mls_model2(data,\"gold\",n)\n",
    "\n",
    "print(model.summary())\n",
    "\n",
    "sm.stats.anova_lm(model)"
   ]
  },
  {
   "cell_type": "code",
   "execution_count": null,
   "id": "fca10cd8",
   "metadata": {},
   "outputs": [
    {
     "name": "stdout",
     "output_type": "stream",
     "text": [
      "                            OLS Regression Results                            \n",
      "==============================================================================\n",
      "Dep. Variable:                 copper   R-squared:                       0.840\n",
      "Model:                            OLS   Adj. R-squared:                  0.839\n",
      "Method:                 Least Squares   F-statistic:                     8139.\n",
      "Date:                Fri, 04 Nov 2022   Prob (F-statistic):               0.00\n",
      "Time:                        18:41:56   Log-Likelihood:                -2779.5\n",
      "No. Observations:                4670   AIC:                             5567.\n",
      "Df Residuals:                    4666   BIC:                             5593.\n",
      "Df Model:                           3                                         \n",
      "Covariance Type:            nonrobust                                         \n",
      "==============================================================================\n",
      "                 coef    std err          t      P>|t|      [0.025      0.975]\n",
      "------------------------------------------------------------------------------\n",
      "Intercept     -0.3128      0.025    -12.470      0.000      -0.362      -0.264\n",
      "silver        -0.0087      0.002     -3.787      0.000      -0.013      -0.004\n",
      "plat           0.0015   3.08e-05     49.672      0.000       0.001       0.002\n",
      "gold           0.0013   2.97e-05     43.274      0.000       0.001       0.001\n",
      "==============================================================================\n",
      "Omnibus:                      792.442   Durbin-Watson:                   0.015\n",
      "Prob(Omnibus):                  0.000   Jarque-Bera (JB):             1311.915\n",
      "Skew:                           1.132   Prob(JB):                    1.32e-285\n",
      "Kurtosis:                       4.272   Cond. No.                     6.39e+03\n",
      "==============================================================================\n",
      "\n",
      "Notes:\n",
      "[1] Standard Errors assume that the covariance matrix of the errors is correctly specified.\n",
      "[2] The condition number is large, 6.39e+03. This might indicate that there are\n",
      "strong multicollinearity or other numerical problems.\n"
     ]
    },
    {
     "data": {
      "text/html": [
       "<div>\n",
       "<style scoped>\n",
       "    .dataframe tbody tr th:only-of-type {\n",
       "        vertical-align: middle;\n",
       "    }\n",
       "\n",
       "    .dataframe tbody tr th {\n",
       "        vertical-align: top;\n",
       "    }\n",
       "\n",
       "    .dataframe thead th {\n",
       "        text-align: right;\n",
       "    }\n",
       "</style>\n",
       "<table border=\"1\" class=\"dataframe\">\n",
       "  <thead>\n",
       "    <tr style=\"text-align: right;\">\n",
       "      <th></th>\n",
       "      <th>df</th>\n",
       "      <th>sum_sq</th>\n",
       "      <th>mean_sq</th>\n",
       "      <th>F</th>\n",
       "      <th>PR(&gt;F)</th>\n",
       "    </tr>\n",
       "  </thead>\n",
       "  <tbody>\n",
       "    <tr>\n",
       "      <th>silver</th>\n",
       "      <td>1.0</td>\n",
       "      <td>4126.799766</td>\n",
       "      <td>4126.799766</td>\n",
       "      <td>21416.373067</td>\n",
       "      <td>0.000000e+00</td>\n",
       "    </tr>\n",
       "    <tr>\n",
       "      <th>plat</th>\n",
       "      <td>1.0</td>\n",
       "      <td>217.178097</td>\n",
       "      <td>217.178097</td>\n",
       "      <td>1127.063926</td>\n",
       "      <td>1.605065e-221</td>\n",
       "    </tr>\n",
       "    <tr>\n",
       "      <th>gold</th>\n",
       "      <td>1.0</td>\n",
       "      <td>360.853665</td>\n",
       "      <td>360.853665</td>\n",
       "      <td>1872.680323</td>\n",
       "      <td>0.000000e+00</td>\n",
       "    </tr>\n",
       "    <tr>\n",
       "      <th>Residual</th>\n",
       "      <td>4666.0</td>\n",
       "      <td>899.108717</td>\n",
       "      <td>0.192694</td>\n",
       "      <td>NaN</td>\n",
       "      <td>NaN</td>\n",
       "    </tr>\n",
       "  </tbody>\n",
       "</table>\n",
       "</div>"
      ],
      "text/plain": [
       "              df       sum_sq      mean_sq             F         PR(>F)\n",
       "silver       1.0  4126.799766  4126.799766  21416.373067   0.000000e+00\n",
       "plat         1.0   217.178097   217.178097   1127.063926  1.605065e-221\n",
       "gold         1.0   360.853665   360.853665   1872.680323   0.000000e+00\n",
       "Residual  4666.0   899.108717     0.192694           NaN            NaN"
      ]
     },
     "execution_count": 656,
     "metadata": {},
     "output_type": "execute_result"
    }
   ],
   "source": [
    "f = [silver,plat,gold]\n",
    "n = [\"silver\",\"plat\",\"gold\"]\n",
    "\n",
    "\n",
    "data = data_prep2(copper,\"copper\",f,n)\n",
    "model = mls_model2(data,\"copper\",n)\n",
    "print(model.summary())\n",
    "\n",
    "sm.stats.anova_lm(model)"
   ]
  },
  {
   "cell_type": "code",
   "execution_count": null,
   "id": "b690128f",
   "metadata": {},
   "outputs": [
    {
     "name": "stdout",
     "output_type": "stream",
     "text": [
      "                            OLS Regression Results                            \n",
      "==============================================================================\n",
      "Dep. Variable:                   plat   R-squared:                       0.661\n",
      "Model:                            OLS   Adj. R-squared:                  0.661\n",
      "Method:                 Least Squares   F-statistic:                     4547.\n",
      "Date:                Fri, 04 Nov 2022   Prob (F-statistic):               0.00\n",
      "Time:                        18:43:33   Log-Likelihood:                -31762.\n",
      "No. Observations:                4672   AIC:                         6.353e+04\n",
      "Df Residuals:                    4669   BIC:                         6.355e+04\n",
      "Df Model:                           2                                         \n",
      "Covariance Type:            nonrobust                                         \n",
      "==============================================================================\n",
      "                 coef    std err          t      P>|t|      [0.025      0.975]\n",
      "------------------------------------------------------------------------------\n",
      "Intercept    409.3707      8.248     49.631      0.000     393.200     425.541\n",
      "copper       160.2987      5.661     28.314      0.000     149.200     171.398\n",
      "silver        15.7498      0.707     22.284      0.000      14.364      17.135\n",
      "==============================================================================\n",
      "Omnibus:                       86.067   Durbin-Watson:                   0.008\n",
      "Prob(Omnibus):                  0.000   Jarque-Bera (JB):              150.730\n",
      "Skew:                           0.139   Prob(JB):                     1.86e-33\n",
      "Kurtosis:                       3.835   Cond. No.                         54.3\n",
      "==============================================================================\n",
      "\n",
      "Notes:\n",
      "[1] Standard Errors assume that the covariance matrix of the errors is correctly specified.\n"
     ]
    },
    {
     "data": {
      "text/html": [
       "<div>\n",
       "<style scoped>\n",
       "    .dataframe tbody tr th:only-of-type {\n",
       "        vertical-align: middle;\n",
       "    }\n",
       "\n",
       "    .dataframe tbody tr th {\n",
       "        vertical-align: top;\n",
       "    }\n",
       "\n",
       "    .dataframe thead th {\n",
       "        text-align: right;\n",
       "    }\n",
       "</style>\n",
       "<table border=\"1\" class=\"dataframe\">\n",
       "  <thead>\n",
       "    <tr style=\"text-align: right;\">\n",
       "      <th></th>\n",
       "      <th>df</th>\n",
       "      <th>sum_sq</th>\n",
       "      <th>mean_sq</th>\n",
       "      <th>F</th>\n",
       "      <th>PR(&gt;F)</th>\n",
       "    </tr>\n",
       "  </thead>\n",
       "  <tbody>\n",
       "    <tr>\n",
       "      <th>copper</th>\n",
       "      <td>1.0</td>\n",
       "      <td>4.047926e+08</td>\n",
       "      <td>4.047926e+08</td>\n",
       "      <td>8597.146766</td>\n",
       "      <td>0.000000e+00</td>\n",
       "    </tr>\n",
       "    <tr>\n",
       "      <th>silver</th>\n",
       "      <td>1.0</td>\n",
       "      <td>2.338067e+07</td>\n",
       "      <td>2.338067e+07</td>\n",
       "      <td>496.568042</td>\n",
       "      <td>1.270472e-104</td>\n",
       "    </tr>\n",
       "    <tr>\n",
       "      <th>Residual</th>\n",
       "      <td>4669.0</td>\n",
       "      <td>2.198376e+08</td>\n",
       "      <td>4.708452e+04</td>\n",
       "      <td>NaN</td>\n",
       "      <td>NaN</td>\n",
       "    </tr>\n",
       "  </tbody>\n",
       "</table>\n",
       "</div>"
      ],
      "text/plain": [
       "              df        sum_sq       mean_sq            F         PR(>F)\n",
       "copper       1.0  4.047926e+08  4.047926e+08  8597.146766   0.000000e+00\n",
       "silver       1.0  2.338067e+07  2.338067e+07   496.568042  1.270472e-104\n",
       "Residual  4669.0  2.198376e+08  4.708452e+04          NaN            NaN"
      ]
     },
     "execution_count": 658,
     "metadata": {},
     "output_type": "execute_result"
    }
   ],
   "source": [
    "f = [copper,silver]\n",
    "n = [\"copper\",\"silver\",]\n",
    "\n",
    "\n",
    "data = data_prep2(plat,\"plat\",f,n)\n",
    "model = mls_model2(data,\"plat\",n)\n",
    "print(model.summary())\n",
    "\n",
    "sm.stats.anova_lm(model)"
   ]
  },
  {
   "cell_type": "code",
   "execution_count": null,
   "id": "c612e077",
   "metadata": {},
   "outputs": [
    {
     "name": "stdout",
     "output_type": "stream",
     "text": [
      "                            OLS Regression Results                            \n",
      "==============================================================================\n",
      "Dep. Variable:                 silver   R-squared:                       0.898\n",
      "Model:                            OLS   Adj. R-squared:                  0.898\n",
      "Method:                 Least Squares   F-statistic:                 1.373e+04\n",
      "Date:                Fri, 04 Nov 2022   Prob (F-statistic):               0.00\n",
      "Time:                        18:46:32   Log-Likelihood:                -11428.\n",
      "No. Observations:                4670   AIC:                         2.286e+04\n",
      "Df Residuals:                    4666   BIC:                         2.289e+04\n",
      "Df Model:                           3                                         \n",
      "Covariance Type:            nonrobust                                         \n",
      "==============================================================================\n",
      "                 coef    std err          t      P>|t|      [0.025      0.975]\n",
      "------------------------------------------------------------------------------\n",
      "Intercept     -6.4994      0.132    -49.377      0.000      -6.757      -6.241\n",
      "copper        -0.3240      0.093     -3.469      0.001      -0.507      -0.141\n",
      "plat           0.0105      0.000     55.761      0.000       0.010       0.011\n",
      "gold           0.0115      0.000     78.572      0.000       0.011       0.012\n",
      "==============================================================================\n",
      "Omnibus:                     1249.862   Durbin-Watson:                   0.021\n",
      "Prob(Omnibus):                  0.000   Jarque-Bera (JB):             5913.976\n",
      "Skew:                           1.214   Prob(JB):                         0.00\n",
      "Kurtosis:                       7.950   Cond. No.                     5.34e+03\n",
      "==============================================================================\n",
      "\n",
      "Notes:\n",
      "[1] Standard Errors assume that the covariance matrix of the errors is correctly specified.\n",
      "[2] The condition number is large, 5.34e+03. This might indicate that there are\n",
      "strong multicollinearity or other numerical problems.\n"
     ]
    },
    {
     "data": {
      "text/html": [
       "<div>\n",
       "<style scoped>\n",
       "    .dataframe tbody tr th:only-of-type {\n",
       "        vertical-align: middle;\n",
       "    }\n",
       "\n",
       "    .dataframe tbody tr th {\n",
       "        vertical-align: top;\n",
       "    }\n",
       "\n",
       "    .dataframe thead th {\n",
       "        text-align: right;\n",
       "    }\n",
       "</style>\n",
       "<table border=\"1\" class=\"dataframe\">\n",
       "  <thead>\n",
       "    <tr style=\"text-align: right;\">\n",
       "      <th></th>\n",
       "      <th>df</th>\n",
       "      <th>sum_sq</th>\n",
       "      <th>mean_sq</th>\n",
       "      <th>F</th>\n",
       "      <th>PR(&gt;F)</th>\n",
       "    </tr>\n",
       "  </thead>\n",
       "  <tbody>\n",
       "    <tr>\n",
       "      <th>copper</th>\n",
       "      <td>1.0</td>\n",
       "      <td>265054.184952</td>\n",
       "      <td>265054.184952</td>\n",
       "      <td>33870.312751</td>\n",
       "      <td>0.000000e+00</td>\n",
       "    </tr>\n",
       "    <tr>\n",
       "      <th>plat</th>\n",
       "      <td>1.0</td>\n",
       "      <td>9081.580276</td>\n",
       "      <td>9081.580276</td>\n",
       "      <td>1160.502198</td>\n",
       "      <td>2.338045e-227</td>\n",
       "    </tr>\n",
       "    <tr>\n",
       "      <th>gold</th>\n",
       "      <td>1.0</td>\n",
       "      <td>48311.151128</td>\n",
       "      <td>48311.151128</td>\n",
       "      <td>6173.506743</td>\n",
       "      <td>0.000000e+00</td>\n",
       "    </tr>\n",
       "    <tr>\n",
       "      <th>Residual</th>\n",
       "      <td>4666.0</td>\n",
       "      <td>36514.065757</td>\n",
       "      <td>7.825561</td>\n",
       "      <td>NaN</td>\n",
       "      <td>NaN</td>\n",
       "    </tr>\n",
       "  </tbody>\n",
       "</table>\n",
       "</div>"
      ],
      "text/plain": [
       "              df         sum_sq        mean_sq             F         PR(>F)\n",
       "copper       1.0  265054.184952  265054.184952  33870.312751   0.000000e+00\n",
       "plat         1.0    9081.580276    9081.580276   1160.502198  2.338045e-227\n",
       "gold         1.0   48311.151128   48311.151128   6173.506743   0.000000e+00\n",
       "Residual  4666.0   36514.065757       7.825561           NaN            NaN"
      ]
     },
     "execution_count": 659,
     "metadata": {},
     "output_type": "execute_result"
    }
   ],
   "source": [
    "f = [copper,plat,gold]\n",
    "n = [\"copper\",\"plat\",\"gold\"]\n",
    "\n",
    "\n",
    "data = data_prep2(silver,\"silver\",f,n)\n",
    "model = mls_model2(data,\"silver\",n)\n",
    "print(model.summary())\n",
    "\n",
    "sm.stats.anova_lm(model)"
   ]
  },
  {
   "cell_type": "markdown",
   "id": "e6784ded-5ebb-492d-a244-62c7d42ec457",
   "metadata": {},
   "source": [
    "# Question 3\n",
    "\n",
    "1. Write a function that takes a ticker symbol and returns a pandas dataframe that for each day puts a 1 when the closing price is higher than the opening price, a 0 when the closing price is lower than the opening price.\n",
    "2. Write the best logistic regression that predicts the time series you obtain from Step 1 for gold futures against the opening prices of gold, silver, copper, and platinum prices.\n",
    "3. Repeat the same for silver, copper, and platinum prices.\n",
    "4. Compare the models you obtained from Steps 2 and 3. Decide which is the best model, and explain your reasoning.\n",
    "5. Does any of the models provide a good fit? Explain."
   ]
  },
  {
   "cell_type": "code",
   "execution_count": 7,
   "id": "4e8bb330",
   "metadata": {},
   "outputs": [],
   "source": [
    "from statsmodels.formula.api import logit\n",
    "from sklearn.model_selection import train_test_split\n",
    "from sklearn.linear_model import LogisticRegression\n",
    "from sklearn.metrics import confusion_matrix\n",
    "\n"
   ]
  },
  {
   "cell_type": "code",
   "execution_count": 8,
   "id": "e67d2161-b332-47d0-8f16-b829520d55bd",
   "metadata": {},
   "outputs": [],
   "source": [
    "def logic(tic):\n",
    "    \n",
    "    data = yf.download(tic,  start = \"2000-01-01\" , end = \"2022-01-31\")\n",
    "    \n",
    "    col1 = []\n",
    "    \n",
    "    \n",
    "    for i in range(data[\"Close\"].shape[0]):\n",
    "        if data[\"Close\"][i] > data[\"Open\"][i]:\n",
    "            col1.append(1)\n",
    "        if data[\"Close\"][i] <= data[\"Open\"][i]:\n",
    "            col1.append(0)\n",
    "    \n",
    "    out = pd.DataFrame(data={str(tic[:2]): col1})\n",
    "    out.index = data.index \n",
    "\n",
    "    return out"
   ]
  },
  {
   "cell_type": "code",
   "execution_count": 9,
   "id": "d9780f17",
   "metadata": {},
   "outputs": [
    {
     "name": "stdout",
     "output_type": "stream",
     "text": [
      "[*********************100%***********************]  1 of 1 completed\n"
     ]
    },
    {
     "data": {
      "text/html": [
       "<div>\n",
       "<style scoped>\n",
       "    .dataframe tbody tr th:only-of-type {\n",
       "        vertical-align: middle;\n",
       "    }\n",
       "\n",
       "    .dataframe tbody tr th {\n",
       "        vertical-align: top;\n",
       "    }\n",
       "\n",
       "    .dataframe thead th {\n",
       "        text-align: right;\n",
       "    }\n",
       "</style>\n",
       "<table border=\"1\" class=\"dataframe\">\n",
       "  <thead>\n",
       "    <tr style=\"text-align: right;\">\n",
       "      <th></th>\n",
       "      <th>GC</th>\n",
       "    </tr>\n",
       "    <tr>\n",
       "      <th>Date</th>\n",
       "      <th></th>\n",
       "    </tr>\n",
       "  </thead>\n",
       "  <tbody>\n",
       "    <tr>\n",
       "      <th>2000-08-30 00:00:00-04:00</th>\n",
       "      <td>0</td>\n",
       "    </tr>\n",
       "    <tr>\n",
       "      <th>2000-08-31 00:00:00-04:00</th>\n",
       "      <td>1</td>\n",
       "    </tr>\n",
       "    <tr>\n",
       "      <th>2000-09-01 00:00:00-04:00</th>\n",
       "      <td>0</td>\n",
       "    </tr>\n",
       "    <tr>\n",
       "      <th>2000-09-05 00:00:00-04:00</th>\n",
       "      <td>0</td>\n",
       "    </tr>\n",
       "    <tr>\n",
       "      <th>2000-09-06 00:00:00-04:00</th>\n",
       "      <td>0</td>\n",
       "    </tr>\n",
       "    <tr>\n",
       "      <th>...</th>\n",
       "      <td>...</td>\n",
       "    </tr>\n",
       "    <tr>\n",
       "      <th>2022-01-24 00:00:00-05:00</th>\n",
       "      <td>1</td>\n",
       "    </tr>\n",
       "    <tr>\n",
       "      <th>2022-01-25 00:00:00-05:00</th>\n",
       "      <td>1</td>\n",
       "    </tr>\n",
       "    <tr>\n",
       "      <th>2022-01-26 00:00:00-05:00</th>\n",
       "      <td>0</td>\n",
       "    </tr>\n",
       "    <tr>\n",
       "      <th>2022-01-27 00:00:00-05:00</th>\n",
       "      <td>0</td>\n",
       "    </tr>\n",
       "    <tr>\n",
       "      <th>2022-01-28 00:00:00-05:00</th>\n",
       "      <td>0</td>\n",
       "    </tr>\n",
       "  </tbody>\n",
       "</table>\n",
       "<p>5373 rows × 1 columns</p>\n",
       "</div>"
      ],
      "text/plain": [
       "                           GC\n",
       "Date                         \n",
       "2000-08-30 00:00:00-04:00   0\n",
       "2000-08-31 00:00:00-04:00   1\n",
       "2000-09-01 00:00:00-04:00   0\n",
       "2000-09-05 00:00:00-04:00   0\n",
       "2000-09-06 00:00:00-04:00   0\n",
       "...                        ..\n",
       "2022-01-24 00:00:00-05:00   1\n",
       "2022-01-25 00:00:00-05:00   1\n",
       "2022-01-26 00:00:00-05:00   0\n",
       "2022-01-27 00:00:00-05:00   0\n",
       "2022-01-28 00:00:00-05:00   0\n",
       "\n",
       "[5373 rows x 1 columns]"
      ]
     },
     "execution_count": 9,
     "metadata": {},
     "output_type": "execute_result"
    }
   ],
   "source": [
    "gc = logic(\"GC=F\")\n",
    "\n",
    "gc"
   ]
  },
  {
   "cell_type": "code",
   "execution_count": 17,
   "id": "79f5546e",
   "metadata": {},
   "outputs": [
    {
     "name": "stdout",
     "output_type": "stream",
     "text": [
      "[*********************100%***********************]  1 of 1 completed\n",
      "Optimization terminated successfully.\n",
      "         Current function value: 0.673153\n",
      "         Iterations 4\n"
     ]
    },
    {
     "data": {
      "text/html": [
       "<table class=\"simpletable\">\n",
       "<caption>Logit Regression Results</caption>\n",
       "<tr>\n",
       "  <th>Dep. Variable:</th>          <td>Bin</td>       <th>  No. Observations:  </th>  <td>  4670</td>  \n",
       "</tr>\n",
       "<tr>\n",
       "  <th>Model:</th>                 <td>Logit</td>      <th>  Df Residuals:      </th>  <td>  4666</td>  \n",
       "</tr>\n",
       "<tr>\n",
       "  <th>Method:</th>                 <td>MLE</td>       <th>  Df Model:          </th>  <td>     3</td>  \n",
       "</tr>\n",
       "<tr>\n",
       "  <th>Date:</th>            <td>Sun, 06 Nov 2022</td> <th>  Pseudo R-squ.:     </th>  <td>0.01183</td> \n",
       "</tr>\n",
       "<tr>\n",
       "  <th>Time:</th>                <td>23:24:08</td>     <th>  Log-Likelihood:    </th> <td> -3143.6</td> \n",
       "</tr>\n",
       "<tr>\n",
       "  <th>converged:</th>             <td>True</td>       <th>  LL-Null:           </th> <td> -3181.3</td> \n",
       "</tr>\n",
       "<tr>\n",
       "  <th>Covariance Type:</th>     <td>nonrobust</td>    <th>  LLR p-value:       </th> <td>3.125e-16</td>\n",
       "</tr>\n",
       "</table>\n",
       "<table class=\"simpletable\">\n",
       "<tr>\n",
       "      <td></td>         <th>coef</th>     <th>std err</th>      <th>z</th>      <th>P>|z|</th>  <th>[0.025</th>    <th>0.975]</th>  \n",
       "</tr>\n",
       "<tr>\n",
       "  <th>Intercept</th> <td>   -0.6582</td> <td>    0.097</td> <td>   -6.780</td> <td> 0.000</td> <td>   -0.848</td> <td>   -0.468</td>\n",
       "</tr>\n",
       "<tr>\n",
       "  <th>copper</th>    <td>    0.0473</td> <td>    0.057</td> <td>    0.823</td> <td> 0.410</td> <td>   -0.065</td> <td>    0.160</td>\n",
       "</tr>\n",
       "<tr>\n",
       "  <th>silver</th>    <td>    0.0336</td> <td>    0.007</td> <td>    4.820</td> <td> 0.000</td> <td>    0.020</td> <td>    0.047</td>\n",
       "</tr>\n",
       "<tr>\n",
       "  <th>plat</th>      <td>   -0.0003</td> <td>    0.000</td> <td>   -2.279</td> <td> 0.023</td> <td>   -0.001</td> <td>-4.37e-05</td>\n",
       "</tr>\n",
       "</table>"
      ],
      "text/plain": [
       "<class 'statsmodels.iolib.summary.Summary'>\n",
       "\"\"\"\n",
       "                           Logit Regression Results                           \n",
       "==============================================================================\n",
       "Dep. Variable:                    Bin   No. Observations:                 4670\n",
       "Model:                          Logit   Df Residuals:                     4666\n",
       "Method:                           MLE   Df Model:                            3\n",
       "Date:                Sun, 06 Nov 2022   Pseudo R-squ.:                 0.01183\n",
       "Time:                        23:24:08   Log-Likelihood:                -3143.6\n",
       "converged:                       True   LL-Null:                       -3181.3\n",
       "Covariance Type:            nonrobust   LLR p-value:                 3.125e-16\n",
       "==============================================================================\n",
       "                 coef    std err          z      P>|z|      [0.025      0.975]\n",
       "------------------------------------------------------------------------------\n",
       "Intercept     -0.6582      0.097     -6.780      0.000      -0.848      -0.468\n",
       "copper         0.0473      0.057      0.823      0.410      -0.065       0.160\n",
       "silver         0.0336      0.007      4.820      0.000       0.020       0.047\n",
       "plat          -0.0003      0.000     -2.279      0.023      -0.001   -4.37e-05\n",
       "==============================================================================\n",
       "\"\"\""
      ]
     },
     "execution_count": 17,
     "metadata": {},
     "output_type": "execute_result"
    },
    {
     "data": {
      "image/png": "[encoded data removed]",
      "text/plain": [
       "<Figure size 432x288 with 2 Axes>"
      ]
     },
     "metadata": {
      "needs_background": "light"
     },
     "output_type": "display_data"
    }
   ],
   "source": [
    "gc = logic(\"GC=F\")\n",
    "\n",
    "\n",
    "res = pd.concat([gc,copper[[\"Open\"]],silver[[\"Open\"]],plat[[\"Open\"]]],axis=1)\n",
    "res.columns = ['Bin',\"copper\",'silver','plat']\n",
    "res.dropna(inplace=True)\n",
    "\n",
    "X = res.iloc[:,1:]\n",
    "y = res.iloc[:,0]\n",
    "\n",
    "sns.heatmap(res.corr(), cmap=\"YlGnBu\", annot=True)\n",
    "\n",
    "model = logit('Bin ~ copper + silver + plat', data=res).fit()\n",
    "model.summary()\n",
    "\n",
    "\n"
   ]
  },
  {
   "cell_type": "code",
   "execution_count": null,
   "id": "af984ab4",
   "metadata": {},
   "outputs": [
    {
     "ename": "NameError",
     "evalue": "name 'X' is not defined",
     "output_type": "error",
     "traceback": [
      "\u001b[0;31m---------------------------------------------------------------------------\u001b[0m",
      "\u001b[0;31mNameError\u001b[0m                                 Traceback (most recent call last)",
      "\u001b[0;32m/var/folders/6j/1nsywzcs1v5_6gn_3972hssr0000gn/T/ipykernel_46530/4001379717.py\u001b[0m in \u001b[0;36m<module>\u001b[0;34m\u001b[0m\n\u001b[0;32m----> 1\u001b[0;31m \u001b[0mnormalizer\u001b[0m \u001b[0;34m=\u001b[0m \u001b[0mpreprocessing\u001b[0m\u001b[0;34m.\u001b[0m\u001b[0mNormalizer\u001b[0m\u001b[0;34m(\u001b[0m\u001b[0;34m)\u001b[0m\u001b[0;34m.\u001b[0m\u001b[0mfit\u001b[0m\u001b[0;34m(\u001b[0m\u001b[0mX\u001b[0m\u001b[0;34m)\u001b[0m  \u001b[0;31m# fit does nothing\u001b[0m\u001b[0;34m\u001b[0m\u001b[0;34m\u001b[0m\u001b[0m\n\u001b[0m\u001b[1;32m      2\u001b[0m \u001b[0mnormalizer\u001b[0m\u001b[0;34m.\u001b[0m\u001b[0mtransform\u001b[0m\u001b[0;34m(\u001b[0m\u001b[0mX\u001b[0m\u001b[0;34m)\u001b[0m\u001b[0;34m\u001b[0m\u001b[0;34m\u001b[0m\u001b[0m\n\u001b[1;32m      3\u001b[0m \u001b[0;34m\u001b[0m\u001b[0m\n\u001b[1;32m      4\u001b[0m \u001b[0mX_train\u001b[0m\u001b[0;34m,\u001b[0m \u001b[0mX_test\u001b[0m\u001b[0;34m,\u001b[0m \u001b[0my_train\u001b[0m\u001b[0;34m,\u001b[0m \u001b[0my_test\u001b[0m \u001b[0;34m=\u001b[0m \u001b[0mtrain_test_split\u001b[0m\u001b[0;34m(\u001b[0m\u001b[0mX\u001b[0m\u001b[0;34m,\u001b[0m\u001b[0my\u001b[0m\u001b[0;34m)\u001b[0m\u001b[0;34m\u001b[0m\u001b[0;34m\u001b[0m\u001b[0m\n\u001b[1;32m      5\u001b[0m \u001b[0;34m\u001b[0m\u001b[0m\n",
      "\u001b[0;31mNameError\u001b[0m: name 'X' is not defined"
     ]
    }
   ],
   "source": [
    "normalizer = preprocessing.Normalizer().fit(X)  # fit does nothing\n",
    "normalizer.transform(X)\n",
    "\n",
    "X_train, X_test, y_train, y_test = train_test_split(X,y)\n",
    "\n",
    "\n",
    "model1 = LogisticRegression(max_iter=1500)\n",
    "model1.fit(X_train,y_train)\n",
    "model1.score(X_test,y_test)"
   ]
  },
  {
   "cell_type": "code",
   "execution_count": null,
   "id": "6b0bbb8b",
   "metadata": {},
   "outputs": [
    {
     "name": "stdout",
     "output_type": "stream",
     "text": [
      "[*********************100%***********************]  1 of 1 completed\n",
      "Optimization terminated successfully.\n",
      "         Current function value: 0.630714\n",
      "         Iterations 5\n"
     ]
    },
    {
     "data": {
      "text/html": [
       "<table class=\"simpletable\">\n",
       "<caption>Logit Regression Results</caption>\n",
       "<tr>\n",
       "  <th>Dep. Variable:</th>          <td>Bin</td>       <th>  No. Observations:  </th>  <td>  4670</td>  \n",
       "</tr>\n",
       "<tr>\n",
       "  <th>Model:</th>                 <td>Logit</td>      <th>  Df Residuals:      </th>  <td>  4666</td>  \n",
       "</tr>\n",
       "<tr>\n",
       "  <th>Method:</th>                 <td>MLE</td>       <th>  Df Model:          </th>  <td>     3</td>  \n",
       "</tr>\n",
       "<tr>\n",
       "  <th>Date:</th>            <td>Thu, 03 Nov 2022</td> <th>  Pseudo R-squ.:     </th>  <td>0.01034</td> \n",
       "</tr>\n",
       "<tr>\n",
       "  <th>Time:</th>                <td>19:25:20</td>     <th>  Log-Likelihood:    </th> <td> -2945.4</td> \n",
       "</tr>\n",
       "<tr>\n",
       "  <th>converged:</th>             <td>True</td>       <th>  LL-Null:           </th> <td> -2976.2</td> \n",
       "</tr>\n",
       "<tr>\n",
       "  <th>Covariance Type:</th>     <td>nonrobust</td>    <th>  LLR p-value:       </th> <td>2.757e-13</td>\n",
       "</tr>\n",
       "</table>\n",
       "<table class=\"simpletable\">\n",
       "<tr>\n",
       "      <td></td>         <th>coef</th>     <th>std err</th>      <th>z</th>      <th>P>|z|</th>  <th>[0.025</th>    <th>0.975]</th>  \n",
       "</tr>\n",
       "<tr>\n",
       "  <th>Intercept</th> <td>   -1.3064</td> <td>    0.104</td> <td>  -12.612</td> <td> 0.000</td> <td>   -1.509</td> <td>   -1.103</td>\n",
       "</tr>\n",
       "<tr>\n",
       "  <th>gold</th>      <td>    0.0004</td> <td>    0.000</td> <td>    3.663</td> <td> 0.000</td> <td>    0.000</td> <td>    0.001</td>\n",
       "</tr>\n",
       "<tr>\n",
       "  <th>plat</th>      <td>    0.0001</td> <td>    0.000</td> <td>    0.799</td> <td> 0.425</td> <td>   -0.000</td> <td>    0.000</td>\n",
       "</tr>\n",
       "<tr>\n",
       "  <th>copper</th>    <td>    0.0161</td> <td>    0.071</td> <td>    0.229</td> <td> 0.819</td> <td>   -0.122</td> <td>    0.154</td>\n",
       "</tr>\n",
       "</table>"
      ],
      "text/plain": [
       "<class 'statsmodels.iolib.summary.Summary'>\n",
       "\"\"\"\n",
       "                           Logit Regression Results                           \n",
       "==============================================================================\n",
       "Dep. Variable:                    Bin   No. Observations:                 4670\n",
       "Model:                          Logit   Df Residuals:                     4666\n",
       "Method:                           MLE   Df Model:                            3\n",
       "Date:                Thu, 03 Nov 2022   Pseudo R-squ.:                 0.01034\n",
       "Time:                        19:25:20   Log-Likelihood:                -2945.4\n",
       "converged:                       True   LL-Null:                       -2976.2\n",
       "Covariance Type:            nonrobust   LLR p-value:                 2.757e-13\n",
       "==============================================================================\n",
       "                 coef    std err          z      P>|z|      [0.025      0.975]\n",
       "------------------------------------------------------------------------------\n",
       "Intercept     -1.3064      0.104    -12.612      0.000      -1.509      -1.103\n",
       "gold           0.0004      0.000      3.663      0.000       0.000       0.001\n",
       "plat           0.0001      0.000      0.799      0.425      -0.000       0.000\n",
       "copper         0.0161      0.071      0.229      0.819      -0.122       0.154\n",
       "==============================================================================\n",
       "\"\"\""
      ]
     },
     "execution_count": 400,
     "metadata": {},
     "output_type": "execute_result"
    }
   ],
   "source": [
    "si = logic(\"SI=F\")\n",
    "\n",
    "res = pd.concat([si,gold[[\"Open\"]],copper[[\"Open\"]],plat[[\"Open\"]]],axis=1)\n",
    "res.columns = ['Bin','gold','copper','plat']\n",
    "res.dropna(inplace=True)\n",
    "X = res.iloc[:,1:]\n",
    "y = res.iloc[:,0]\n",
    "\n",
    "model = logit('Bin ~ gold + plat + copper', data=res).fit()\n",
    "model.summary()\n",
    "\n"
   ]
  },
  {
   "cell_type": "code",
   "execution_count": null,
   "id": "54fd4c61",
   "metadata": {},
   "outputs": [
    {
     "data": {
      "text/plain": [
       "0.6498287671232876"
      ]
     },
     "execution_count": 403,
     "metadata": {},
     "output_type": "execute_result"
    }
   ],
   "source": [
    "X_train, X_test, y_train, y_test = train_test_split(X,y)\n",
    "\n",
    "model1 = LogisticRegression(max_iter=1500)\n",
    "model1.fit(X_train,y_train)\n",
    "model1.score(X_test,y_test)"
   ]
  },
  {
   "cell_type": "code",
   "execution_count": null,
   "id": "07a8866d",
   "metadata": {},
   "outputs": [
    {
     "name": "stdout",
     "output_type": "stream",
     "text": [
      "[*********************100%***********************]  1 of 1 completed\n",
      "Optimization terminated successfully.\n",
      "         Current function value: 0.692910\n",
      "         Iterations 3\n"
     ]
    },
    {
     "data": {
      "text/html": [
       "<table class=\"simpletable\">\n",
       "<caption>Logit Regression Results</caption>\n",
       "<tr>\n",
       "  <th>Dep. Variable:</th>          <td>Bin</td>       <th>  No. Observations:  </th>  <td>  4670</td>  \n",
       "</tr>\n",
       "<tr>\n",
       "  <th>Model:</th>                 <td>Logit</td>      <th>  Df Residuals:      </th>  <td>  4666</td>  \n",
       "</tr>\n",
       "<tr>\n",
       "  <th>Method:</th>                 <td>MLE</td>       <th>  Df Model:          </th>  <td>     3</td>  \n",
       "</tr>\n",
       "<tr>\n",
       "  <th>Date:</th>            <td>Thu, 03 Nov 2022</td> <th>  Pseudo R-squ.:     </th> <td>6.258e-05</td>\n",
       "</tr>\n",
       "<tr>\n",
       "  <th>Time:</th>                <td>19:26:57</td>     <th>  Log-Likelihood:    </th> <td> -3235.9</td> \n",
       "</tr>\n",
       "<tr>\n",
       "  <th>converged:</th>             <td>True</td>       <th>  LL-Null:           </th> <td> -3236.1</td> \n",
       "</tr>\n",
       "<tr>\n",
       "  <th>Covariance Type:</th>     <td>nonrobust</td>    <th>  LLR p-value:       </th>  <td>0.9392</td>  \n",
       "</tr>\n",
       "</table>\n",
       "<table class=\"simpletable\">\n",
       "<tr>\n",
       "      <td></td>         <th>coef</th>     <th>std err</th>      <th>z</th>      <th>P>|z|</th>  <th>[0.025</th>    <th>0.975]</th>  \n",
       "</tr>\n",
       "<tr>\n",
       "  <th>Intercept</th> <td>    0.0230</td> <td>    0.114</td> <td>    0.201</td> <td> 0.841</td> <td>   -0.201</td> <td>    0.247</td>\n",
       "</tr>\n",
       "<tr>\n",
       "  <th>gold</th>      <td>-3.459e-05</td> <td>    0.000</td> <td>   -0.255</td> <td> 0.798</td> <td>   -0.000</td> <td>    0.000</td>\n",
       "</tr>\n",
       "<tr>\n",
       "  <th>plat</th>      <td>-8.766e-05</td> <td>    0.000</td> <td>   -0.624</td> <td> 0.532</td> <td>   -0.000</td> <td>    0.000</td>\n",
       "</tr>\n",
       "<tr>\n",
       "  <th>silver</th>    <td>    0.0043</td> <td>    0.010</td> <td>    0.407</td> <td> 0.684</td> <td>   -0.016</td> <td>    0.025</td>\n",
       "</tr>\n",
       "</table>"
      ],
      "text/plain": [
       "<class 'statsmodels.iolib.summary.Summary'>\n",
       "\"\"\"\n",
       "                           Logit Regression Results                           \n",
       "==============================================================================\n",
       "Dep. Variable:                    Bin   No. Observations:                 4670\n",
       "Model:                          Logit   Df Residuals:                     4666\n",
       "Method:                           MLE   Df Model:                            3\n",
       "Date:                Thu, 03 Nov 2022   Pseudo R-squ.:               6.258e-05\n",
       "Time:                        19:26:57   Log-Likelihood:                -3235.9\n",
       "converged:                       True   LL-Null:                       -3236.1\n",
       "Covariance Type:            nonrobust   LLR p-value:                    0.9392\n",
       "==============================================================================\n",
       "                 coef    std err          z      P>|z|      [0.025      0.975]\n",
       "------------------------------------------------------------------------------\n",
       "Intercept      0.0230      0.114      0.201      0.841      -0.201       0.247\n",
       "gold       -3.459e-05      0.000     -0.255      0.798      -0.000       0.000\n",
       "plat       -8.766e-05      0.000     -0.624      0.532      -0.000       0.000\n",
       "silver         0.0043      0.010      0.407      0.684      -0.016       0.025\n",
       "==============================================================================\n",
       "\"\"\""
      ]
     },
     "execution_count": 405,
     "metadata": {},
     "output_type": "execute_result"
    }
   ],
   "source": [
    "hg = logic(\"HG=F\")\n",
    "\n",
    "res = pd.concat([hg,gold[[\"Open\"]],silver[[\"Open\"]],plat[[\"Open\"]]],axis=1)\n",
    "res.columns = ['Bin','gold','silver','plat']\n",
    "res.dropna(inplace=True)\n",
    "X = res.iloc[:,1:]\n",
    "y = res.iloc[:,0]\n",
    "\n",
    "model = logit('Bin ~ gold + plat + silver', data=res).fit()\n",
    "model.summary()\n"
   ]
  },
  {
   "cell_type": "code",
   "execution_count": null,
   "id": "3942b348",
   "metadata": {},
   "outputs": [
    {
     "data": {
      "text/plain": [
       "0.5017123287671232"
      ]
     },
     "execution_count": 406,
     "metadata": {},
     "output_type": "execute_result"
    }
   ],
   "source": [
    "X_train, X_test, y_train, y_test = train_test_split(X,y)\n",
    "\n",
    "model1 = LogisticRegression(max_iter=1500)\n",
    "model1.fit(X_train,y_train)\n",
    "model1.score(X_test,y_test)"
   ]
  },
  {
   "cell_type": "code",
   "execution_count": null,
   "id": "acdec90b",
   "metadata": {},
   "outputs": [
    {
     "name": "stdout",
     "output_type": "stream",
     "text": [
      "[*********************100%***********************]  1 of 1 completed\n",
      "Optimization terminated successfully.\n",
      "         Current function value: 0.541710\n",
      "         Iterations 5\n"
     ]
    },
    {
     "data": {
      "text/html": [
       "<table class=\"simpletable\">\n",
       "<caption>Logit Regression Results</caption>\n",
       "<tr>\n",
       "  <th>Dep. Variable:</th>          <td>Bin</td>       <th>  No. Observations:  </th>  <td>  4670</td>  \n",
       "</tr>\n",
       "<tr>\n",
       "  <th>Model:</th>                 <td>Logit</td>      <th>  Df Residuals:      </th>  <td>  4666</td>  \n",
       "</tr>\n",
       "<tr>\n",
       "  <th>Method:</th>                 <td>MLE</td>       <th>  Df Model:          </th>  <td>     3</td>  \n",
       "</tr>\n",
       "<tr>\n",
       "  <th>Date:</th>            <td>Thu, 03 Nov 2022</td> <th>  Pseudo R-squ.:     </th>  <td>0.07396</td> \n",
       "</tr>\n",
       "<tr>\n",
       "  <th>Time:</th>                <td>19:27:49</td>     <th>  Log-Likelihood:    </th> <td> -2529.8</td> \n",
       "</tr>\n",
       "<tr>\n",
       "  <th>converged:</th>             <td>True</td>       <th>  LL-Null:           </th> <td> -2731.8</td> \n",
       "</tr>\n",
       "<tr>\n",
       "  <th>Covariance Type:</th>     <td>nonrobust</td>    <th>  LLR p-value:       </th> <td>2.857e-87</td>\n",
       "</tr>\n",
       "</table>\n",
       "<table class=\"simpletable\">\n",
       "<tr>\n",
       "      <td></td>         <th>coef</th>     <th>std err</th>      <th>z</th>      <th>P>|z|</th>  <th>[0.025</th>    <th>0.975]</th>  \n",
       "</tr>\n",
       "<tr>\n",
       "  <th>Intercept</th> <td>    0.4829</td> <td>    0.082</td> <td>    5.857</td> <td> 0.000</td> <td>    0.321</td> <td>    0.645</td>\n",
       "</tr>\n",
       "<tr>\n",
       "  <th>gold</th>      <td>   -0.0013</td> <td>    0.000</td> <td>   -8.310</td> <td> 0.000</td> <td>   -0.002</td> <td>   -0.001</td>\n",
       "</tr>\n",
       "<tr>\n",
       "  <th>copper</th>    <td>   -0.2645</td> <td>    0.064</td> <td>   -4.130</td> <td> 0.000</td> <td>   -0.390</td> <td>   -0.139</td>\n",
       "</tr>\n",
       "<tr>\n",
       "  <th>silver</th>    <td>    0.0338</td> <td>    0.010</td> <td>    3.239</td> <td> 0.001</td> <td>    0.013</td> <td>    0.054</td>\n",
       "</tr>\n",
       "</table>"
      ],
      "text/plain": [
       "<class 'statsmodels.iolib.summary.Summary'>\n",
       "\"\"\"\n",
       "                           Logit Regression Results                           \n",
       "==============================================================================\n",
       "Dep. Variable:                    Bin   No. Observations:                 4670\n",
       "Model:                          Logit   Df Residuals:                     4666\n",
       "Method:                           MLE   Df Model:                            3\n",
       "Date:                Thu, 03 Nov 2022   Pseudo R-squ.:                 0.07396\n",
       "Time:                        19:27:49   Log-Likelihood:                -2529.8\n",
       "converged:                       True   LL-Null:                       -2731.8\n",
       "Covariance Type:            nonrobust   LLR p-value:                 2.857e-87\n",
       "==============================================================================\n",
       "                 coef    std err          z      P>|z|      [0.025      0.975]\n",
       "------------------------------------------------------------------------------\n",
       "Intercept      0.4829      0.082      5.857      0.000       0.321       0.645\n",
       "gold          -0.0013      0.000     -8.310      0.000      -0.002      -0.001\n",
       "copper        -0.2645      0.064     -4.130      0.000      -0.390      -0.139\n",
       "silver         0.0338      0.010      3.239      0.001       0.013       0.054\n",
       "==============================================================================\n",
       "\"\"\""
      ]
     },
     "execution_count": 407,
     "metadata": {},
     "output_type": "execute_result"
    }
   ],
   "source": [
    "pl = logic(\"PL=F\")\n",
    "\n",
    "res = pd.concat([pl,gold[[\"Open\"]],silver[[\"Open\"]],copper[[\"Open\"]]],axis=1)\n",
    "res.columns = ['Bin','gold','silver','copper']\n",
    "res.dropna(inplace=True)\n",
    "X = res.iloc[:,1:]\n",
    "y = res.iloc[:,0]\n",
    "\n",
    "model = logit('Bin ~ gold + copper + silver', data=res).fit()\n",
    "model.summary()"
   ]
  },
  {
   "cell_type": "code",
   "execution_count": null,
   "id": "08bf8955",
   "metadata": {},
   "outputs": [
    {
     "data": {
      "text/plain": [
       "0.5008561643835616"
      ]
     },
     "execution_count": 409,
     "metadata": {},
     "output_type": "execute_result"
    }
   ],
   "source": [
    "X_train, X_test, y_train, y_test = train_test_split(X,y)\n",
    "\n",
    "model1 = LogisticRegression(max_iter=1500)\n",
    "model1.fit(X_train,y_train)\n",
    "model1.score(X_test,y_test)"
   ]
  },
  {
   "cell_type": "markdown",
   "id": "17365a32-866c-40d2-8ac9-5d0dcfaba69b",
   "metadata": {},
   "source": [
    "# Question 4\n",
    "\n",
    "For this question use the following [data](https://archive.ics.uci.edu/ml/datasets/credit+approval):\n"
   ]
  },
  {
   "cell_type": "code",
   "execution_count": null,
   "id": "365d759b-b783-4539-96d0-8b6db6979c44",
   "metadata": {},
   "outputs": [],
   "source": [
    "credit = pd.read_csv('https://archive.ics.uci.edu/ml/machine-learning-databases/credit-screening/crx.data', header=None)\n",
    "\n",
    "fn = {'+': 1, '-': 0}\n",
    "\n",
    "X = credit.replace('?',0).iloc[:,[1,2,7,10,14]]\n",
    "y = credit.iloc[:,15].map(lambda x: fn.get(x,0))"
   ]
  },
  {
   "cell_type": "markdown",
   "id": "e7ebfd20-ff04-43dc-b00d-508a110ff3b3",
   "metadata": {},
   "source": [
    "1. Split the data into training and test set.\n",
    "2. Write different logistic regression models predicting y against X.\n",
    "3. Construct [confusion matrices](https://scikit-learn.org/stable/modules/generated/sklearn.metrics.confusion_matrix.html) on the test data set for these different models.\n",
    "4. Analyze these models. Explain which model is the best model you have found.\n",
    "5. Repeat Steps 1-4 several times. Does your best model stay as the best model? What should be the correct protocol to decide on the best model explaining the data?"
   ]
  },
  {
   "cell_type": "code",
   "execution_count": null,
   "id": "6c30c93c",
   "metadata": {},
   "outputs": [],
   "source": [
    "\n",
    "X_normalized = preprocessing.normalize(X, norm='l2')"
   ]
  },
  {
   "cell_type": "code",
   "execution_count": 23,
   "id": "e2f37cde-dcc2-48f1-ae91-3a615b63e0fb",
   "metadata": {},
   "outputs": [
    {
     "name": "stdout",
     "output_type": "stream",
     "text": [
      "0.5804794520547946\n"
     ]
    },
    {
     "data": {
      "text/plain": [
       "array([[570, 119],\n",
       "       [371, 108]])"
      ]
     },
     "execution_count": 23,
     "metadata": {},
     "output_type": "execute_result"
    }
   ],
   "source": [
    "X_train, X_test, y_train, y_test = train_test_split(X,y)\n",
    "model1 = LogisticRegression(max_iter=1500)\n",
    "model1.fit(X_train,y_train)\n",
    "print(model1.score(X_test,y_test))\n",
    "y_predict = model1.predict(X_test)\n",
    "confusion_matrix(y_test,y_predict)\n",
    "\n"
   ]
  }
 ],
 "metadata": {
  "kernelspec": {
   "display_name": "Python 3.9.7 ('base')",
   "language": "python",
   "name": "python3"
  },
  "language_info": {
   "codemirror_mode": {
    "name": "ipython",
    "version": 3
   },
   "file_extension": ".py",
   "mimetype": "text/x-python",
   "name": "python",
   "nbconvert_exporter": "python",
   "pygments_lexer": "ipython3",
   "version": "3.9.7"
  },
  "vscode": {
   "interpreter": {
    "hash": "aff7775e24516a53c0c62b1866defe95fef783f2c2c084a8a0386ea6dd42844c"
   }
  }
 },
 "nbformat": 4,
 "nbformat_minor": 5
}
