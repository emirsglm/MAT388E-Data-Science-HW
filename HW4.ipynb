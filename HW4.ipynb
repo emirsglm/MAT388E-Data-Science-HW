{
  "cells": [
    {
      "cell_type": "markdown",
      "id": "47dff7d2-6353-478c-b39d-9ba83d7b779b",
      "metadata": {
        "id": "47dff7d2-6353-478c-b39d-9ba83d7b779b"
      },
      "source": [
        "# MAT 388, HW4"
      ]
    },
    {
      "cell_type": "code",
      "execution_count": null,
      "id": "Wur7P6enR9AH",
      "metadata": {
        "colab": {
          "base_uri": "https://localhost:8080/"
        },
        "id": "Wur7P6enR9AH",
        "outputId": "04368a94-6391-4da0-9885-5f71d0b7f7e7"
      },
      "outputs": [],
      "source": [
        "import numpy as np\n",
        "import pandas as pd\n",
        "from sklearn.model_selection import KFold, StratifiedKFold\n",
        "\n",
        "from numpy import mean\n",
        "from numpy import std\n",
        "import yfinance as yf\n",
        "import tensorflow as tf\n",
        "from scipy.io import loadmat\n",
        "from sklearn import datasets\n",
        "from sklearn.svm import SVC\n",
        "from sklearn.metrics import confusion_matrix\n",
        "from sklearn.metrics import classification_report\n",
        "from sklearn.model_selection import train_test_split\n",
        "import matplotlib.pyplot as plt\n",
        "import urllib\n",
        "import math\n",
        "import numpy as np\n",
        "import pandas as pd\n",
        "import matplotlib.pyplot as plt\n",
        "import tensorflow as tf\n",
        "import keras as ks\n",
        "from keras.models import Sequential\n",
        "from keras.layers import Dense, Activation, ConvLSTM2D, MaxPooling3D, Reshape\n",
        "from keras.layers import  Conv2D, Dropout, Flatten, MaxPooling2D, LSTM, Embedding\n",
        "from keras.utils import np_utils\n",
        "from sklearn.preprocessing import LabelBinarizer, StandardScaler\n",
        "from sklearn.feature_extraction.text import CountVectorizer\n",
        "from sklearn.model_selection import train_test_split\n",
        "from sklearn.metrics import accuracy_score\n"
      ]
    },
    {
      "cell_type": "markdown",
      "id": "35472d1b-55e1-444c-99ef-74b17f961e7b",
      "metadata": {
        "id": "35472d1b-55e1-444c-99ef-74b17f961e7b"
      },
      "source": [
        "## Q1\n",
        "\n",
        "For this question we are goint to use [CELEB_A](https://www.tensorflow.org/datasets/catalog/celeb_a) dataset through [tensorflow datasets](https://www.tensorflow.org/datasets).\n",
        "\n",
        "1. Ingest the data, and select 10000 images from the dataset. Put the images under a variable called `X` and class labels (attributes) into `y`.\n",
        "2. Build a neural network model for `X` against `Glasses` attribute in `y`.\n",
        "3. Test the accuracy of your model using a 5-fold cross-validation. (I want a %95 confidence interval on the returned result using a t-test as I did in one of my lectures.)\n",
        "4. Repeat Steps 2 and 3 for `Male` and `Bangs` attributes.\n",
        "5. Compare your results for `Glasses`, `Male` and `Bangs`. Which one is better? Why? Explain."
      ]
    },
    {
      "cell_type": "code",
      "execution_count": null,
      "id": "dOGuwodmRmD7",
      "metadata": {
        "id": "dOGuwodmRmD7"
      },
      "outputs": [],
      "source": [
        "data, info = tfds.load('celeb_a', split=None, data_dir='/content/data', with_info=True, shuffle_files=True)"
      ]
    },
    {
      "cell_type": "markdown",
      "id": "5896ee2e-06ab-40ba-b2bc-3f213b7410d4",
      "metadata": {
        "id": "5896ee2e-06ab-40ba-b2bc-3f213b7410d4"
      },
      "source": [
        "## Q2\n",
        "\n",
        "For this question use the [Hyperspectral Image of Kennedy Space Center](https://www.ehu.eus/ccwintco/index.php/Hyperspectral_Remote_Sensing_Scenes#Kennedy_Space_Center_.28KSC.29).\n",
        "\n",
        "1. Ingest the image data directly from the web. (No local files!)\n",
        "2. Ingest the ground truth data directly from the web. (No local files!)\n",
        "4. Build a convolutional neural network (preferably using [this](https://keras.io/api/layers/convolution_layers/) and/or [this](https://keras.io/api/layers/recurrent_layers/conv_lstm2d/)) model.\n",
        "5. Test the accuracy of the model using a 5-fold cross-validation. (I want a %95 confidence interval on the returned result using a t-test as I did in one of my lectures.)"
      ]
    },
    {
      "cell_type": "code",
      "execution_count": 4,
      "id": "05ab0c2f-cbe5-45d2-b837-5e5cc70dfab8",
      "metadata": {
        "colab": {
          "base_uri": "https://localhost:8080/"
        },
        "id": "05ab0c2f-cbe5-45d2-b837-5e5cc70dfab8",
        "outputId": "8aa6c531-297d-44aa-814e-e2c883c43449"
      },
      "outputs": [
        {
          "data": {
            "text/plain": [
              "('ksc_gt.mat', <http.client.HTTPMessage at 0x7f248670b3a0>)"
            ]
          },
          "execution_count": 4,
          "metadata": {},
          "output_type": "execute_result"
        }
      ],
      "source": [
        "ksc_url = \"http://www.ehu.es/ccwintco/uploads/2/26/KSC.mat\"\n",
        "urllib.request.urlretrieve(ksc_url, \"ksc_data.mat\")\n",
        "ksc_gt_url = \"http://www.ehu.es/ccwintco/uploads/a/a6/KSC_gt.mat\"\n",
        "urllib.request.urlretrieve(ksc_gt_url, \"ksc_gt.mat\")"
      ]
    },
    {
      "cell_type": "code",
      "execution_count": 5,
      "id": "IFiJSaDVX4LV",
      "metadata": {
        "colab": {
          "base_uri": "https://localhost:8080/"
        },
        "id": "IFiJSaDVX4LV",
        "outputId": "7f5f1192-32a5-4893-b1b1-c02f0a7fce0c"
      },
      "outputs": [
        {
          "name": "stdout",
          "output_type": "stream",
          "text": [
            "(512, 614, 176)\n",
            "(512, 614)\n"
          ]
        }
      ],
      "source": [
        "ksc = loadmat('./ksc_data.mat')['KSC']\n",
        "ksc_gt = loadmat('./ksc_gt.mat')['KSC_gt']\n",
        "print(ksc.shape)\n",
        "print(ksc_gt.shape)\n"
      ]
    },
    {
      "cell_type": "code",
      "execution_count": 6,
      "id": "dhH8DpcqhjaB",
      "metadata": {
        "colab": {
          "base_uri": "https://localhost:8080/"
        },
        "id": "dhH8DpcqhjaB",
        "outputId": "38077c19-684f-4867-8638-f1c0aecfad68"
      },
      "outputs": [
        {
          "data": {
            "text/plain": [
              "(314368, 14)"
            ]
          },
          "execution_count": 6,
          "metadata": {},
          "output_type": "execute_result"
        }
      ],
      "source": [
        "X = ksc.reshape(512*614, 4, 4, 11)\n",
        "\n",
        "labeler = LabelBinarizer()\n",
        "y = labeler.fit_transform(ksc_gt.reshape(512*614))\n",
        "y.shape"
      ]
    },
    {
      "cell_type": "markdown",
      "id": "ha7idWqNSsvZ",
      "metadata": {
        "id": "ha7idWqNSsvZ"
      },
      "source": [
        "I found kfold algoirthm on github(https://github.com/christianversloot/machine-learning-articles/blob/main/how-to-use-k-fold-cross-validation-with-keras.md)"
      ]
    },
    {
      "cell_type": "code",
      "execution_count": null,
      "id": "Wl4WYRUwc9f2",
      "metadata": {
        "id": "Wl4WYRUwc9f2"
      },
      "outputs": [],
      "source": [
        "kfold = KFold(n_splits=5, shuffle=True)\n",
        "acc_per_fold = []\n",
        "loss_per_fold = []\n",
        "fold_no = 0\n",
        "\n",
        "# K-fold Cross Validation model evaluation\n",
        "fold_no = 1\n",
        "for train, test in kfold.split(X, ksc_gt.reshape(512*614)):\n",
        "\n",
        "  # Define the model architecture\n",
        "    model = Sequential()\n",
        "    model.add(ConvLSTM2D(32, kernel_size=(2, 2),padding='valid', return_sequences=True, input_shape=(512*614,4, 4, 11)))\n",
        "    model.add(Activation('relu'))\n",
        "    model.add(Dropout(0.5))\n",
        "    model.add(Flatten())\n",
        "\n",
        "    model.add(Dense(14))\n",
        "    model.add(Activation('softmax'))\n",
        "\n",
        "    model.compile(loss='categorical_crossentropy', optimizer='sgd',metrics=['accuracy'])\n",
        "    print(model.summary())\n",
        "\n",
        "    # Generate a print\n",
        "    print('------------------------------------------------------------------------')\n",
        "    print(f'Training for fold {fold_no} ...')\n",
        "\n",
        "    # Fit data to model\n",
        "    history = model.fit(X[train], y[train], batch_size = 4, epochs = 10, validation_data = (X[test], y[test]))\n",
        "\n",
        "    # Generate generalization metrics\n",
        "    scores = model.evaluate(X[test], y[test], verbose=0)\n",
        "    print(f'Score for fold {fold_no}: {model.metrics_names[0]} of {scores[0]}; {model.metrics_names[1]} of {scores[1]*100}%')\n",
        "    acc_per_fold.append(scores[1] * 100)\n",
        "    loss_per_fold.append(scores[0])\n",
        "\n",
        "    # Increase fold number\n",
        "    fold_no = fold_no + 1"
      ]
    },
    {
      "cell_type": "markdown",
      "id": "b1299167-dc7b-4a54-ae1b-5c3bd5c40c73",
      "metadata": {
        "id": "b1299167-dc7b-4a54-ae1b-5c3bd5c40c73"
      },
      "source": [
        "## Q3\n",
        "\n",
        "For this question we are going to use the time series of [Wheat Futures](https://finance.yahoo.com/quote/ZW=F/) from Yahoo Finance.\n",
        "\n",
        "1. Ingest the data using [yfinance](https://pypi.org/project/yfinance/) Start from Jan 1, 2010 until Dec 31, 2021.\n",
        "2. Construct [a RNN and/or a LSTM](https://keras.io/api/layers/recurrent_layers/) model on the data.\n",
        "3. Test your model on the wheat futures data from Jan 1, 2022 to today using a 5-fold cross-validation. Did your model work? Explain."
      ]
    },
    {
      "cell_type": "code",
      "execution_count": 80,
      "id": "8c58e5c7-460a-4650-b08b-64b8838f49ac",
      "metadata": {
        "colab": {
          "base_uri": "https://localhost:8080/"
        },
        "id": "8c58e5c7-460a-4650-b08b-64b8838f49ac",
        "outputId": "438ebc57-b66e-4be6-face-fc3d41af249d"
      },
      "outputs": [
        {
          "name": "stdout",
          "output_type": "stream",
          "text": [
            "[*********************100%***********************]  1 of 1 completed\n",
            "[*********************100%***********************]  1 of 1 completed\n"
          ]
        }
      ],
      "source": [
        "data = yf.download('ZW=F', start=\"2010-01-01\", end=\"2022-01-01\")[['Close']]\n",
        "test_data = yf.download('ZW=F', start=\"2021-12-31\", end=\"2022-12-19\")[['Close']]"
      ]
    },
    {
      "cell_type": "code",
      "execution_count": 81,
      "id": "rrGoDt5-OluB",
      "metadata": {
        "colab": {
          "base_uri": "https://localhost:8080/"
        },
        "id": "rrGoDt5-OluB",
        "outputId": "15530405-df68-4714-c8e6-a0263c61af5a"
      },
      "outputs": [
        {
          "name": "stderr",
          "output_type": "stream",
          "text": [
            "<ipython-input-81-c6cd15d636c1>:9: SettingWithCopyWarning: \n",
            "A value is trying to be set on a copy of a slice from a DataFrame.\n",
            "Try using .loc[row_indexer,col_indexer] = value instead\n",
            "\n",
            "See the caveats in the documentation: https://pandas.pydata.org/pandas-docs/stable/user_guide/indexing.html#returning-a-view-versus-a-copy\n",
            "  test_data['Close2'] = test_data['Close'].shift(-1)\n",
            "/usr/local/lib/python3.8/dist-packages/pandas/util/_decorators.py:311: SettingWithCopyWarning: \n",
            "A value is trying to be set on a copy of a slice from a DataFrame\n",
            "\n",
            "See the caveats in the documentation: https://pandas.pydata.org/pandas-docs/stable/user_guide/indexing.html#returning-a-view-versus-a-copy\n",
            "  return func(*args, **kwargs)\n"
          ]
        }
      ],
      "source": [
        "scaler = StandardScaler()\n",
        "data['Close'] = scaler.fit_transform(data[['Close']])\n",
        "\n",
        "data['Close2'] = data['Close'].shift(-1)\n",
        "data.dropna(inplace = True)\n",
        "X_train = data['Close']\n",
        "y_train = data['Close2']\n",
        "\n",
        "test_data['Close2'] = test_data['Close'].shift(-1)\n",
        "test_data.dropna(inplace = True)\n",
        "X_test = test_data['Close']\n",
        "y_test = test_data['Close2']"
      ]
    },
    {
      "cell_type": "code",
      "execution_count": 82,
      "id": "32su-rRlPsYw",
      "metadata": {
        "colab": {
          "base_uri": "https://localhost:8080/"
        },
        "id": "32su-rRlPsYw",
        "outputId": "ca617176-7a52-41a4-db41-1b01991c81c0"
      },
      "outputs": [
        {
          "name": "stdout",
          "output_type": "stream",
          "text": [
            "Model: \"sequential_30\"\n",
            "_________________________________________________________________\n",
            " Layer (type)                Output Shape              Param #   \n",
            "=================================================================\n",
            " lstm_27 (LSTM)              (None, 64)                16896     \n",
            "                                                                 \n",
            " dense_59 (Dense)            (None, 128)               8320      \n",
            "                                                                 \n",
            " dense_60 (Dense)            (None, 1)                 129       \n",
            "                                                                 \n",
            "=================================================================\n",
            "Total params: 25,345\n",
            "Trainable params: 25,345\n",
            "Non-trainable params: 0\n",
            "_________________________________________________________________\n",
            "None\n",
            "Epoch 1/10\n",
            "604/604 [==============================] - 2s 2ms/step - loss: 0.0377 - val_loss: 33088.6953\n",
            "Epoch 2/10\n",
            "604/604 [==============================] - 1s 2ms/step - loss: 0.0102 - val_loss: 36002.0391\n",
            "Epoch 3/10\n",
            "604/604 [==============================] - 1s 2ms/step - loss: 0.0100 - val_loss: 6585.3662\n",
            "Epoch 4/10\n",
            "604/604 [==============================] - 1s 2ms/step - loss: 0.0103 - val_loss: 8327.5420\n",
            "Epoch 5/10\n",
            "604/604 [==============================] - 1s 2ms/step - loss: 0.0101 - val_loss: 6696.6875\n",
            "Epoch 6/10\n",
            "604/604 [==============================] - 1s 2ms/step - loss: 0.0102 - val_loss: 3811.8572\n",
            "Epoch 7/10\n",
            "604/604 [==============================] - 1s 2ms/step - loss: 0.0101 - val_loss: 7397.7598\n",
            "Epoch 8/10\n",
            "604/604 [==============================] - 1s 2ms/step - loss: 0.0096 - val_loss: 6550.8623\n",
            "Epoch 9/10\n",
            "604/604 [==============================] - 1s 2ms/step - loss: 0.0098 - val_loss: 14199.4443\n",
            "Epoch 10/10\n",
            "604/604 [==============================] - 1s 2ms/step - loss: 0.0098 - val_loss: 9745.4756\n"
          ]
        }
      ],
      "source": [
        "# Define the model architecture\n",
        "model = Sequential()\n",
        "model.add(LSTM(64, input_shape=(1,1), activation='relu'))\n",
        "model.add(Dense(128))\n",
        "model.add(Dense(1))\n",
        "\n",
        "model.compile(loss='mse', optimizer='adam')\n",
        "print(model.summary())\n",
        "\n",
        "\n",
        "\n",
        "# Fit data to model\n",
        "model.fit(X_train,y_train,epochs=10,batch_size=5,validation_data=(X_test,y_test),verbose=1)\n",
        "# Generate generalization metrics\n",
        "scores = model.evaluate(X_test, y_test, verbose=0)\n",
        "\n",
        "\n"
      ]
    },
    {
      "cell_type": "code",
      "execution_count": 83,
      "id": "4lEWtwgDYzwy",
      "metadata": {
        "colab": {
          "base_uri": "https://localhost:8080/",
          "height": 442
        },
        "id": "4lEWtwgDYzwy",
        "outputId": "a280538b-d79d-4853-8dc6-a1e78985e86e"
      },
      "outputs": [
        {
          "name": "stdout",
          "output_type": "stream",
          "text": [
            "8/8 [==============================] - 0s 2ms/step\n"
          ]
        },
        {
          "data": {
            "text/html": [
              "\n",
              "  <div id=\"df-825a5e22-f43e-4e58-96f9-91e306b78666\">\n",
              "    <div class=\"colab-df-container\">\n",
              "      <div>\n",
              "<style scoped>\n",
              "    .dataframe tbody tr th:only-of-type {\n",
              "        vertical-align: middle;\n",
              "    }\n",
              "\n",
              "    .dataframe tbody tr th {\n",
              "        vertical-align: top;\n",
              "    }\n",
              "\n",
              "    .dataframe thead th {\n",
              "        text-align: right;\n",
              "    }\n",
              "</style>\n",
              "<table border=\"1\" class=\"dataframe\">\n",
              "  <thead>\n",
              "    <tr style=\"text-align: right;\">\n",
              "      <th></th>\n",
              "      <th>X_test</th>\n",
              "      <th>Y_test</th>\n",
              "      <th>Y_pred</th>\n",
              "    </tr>\n",
              "  </thead>\n",
              "  <tbody>\n",
              "    <tr>\n",
              "      <th>0</th>\n",
              "      <td>770.75</td>\n",
              "      <td>758.00</td>\n",
              "      <td>693.712158</td>\n",
              "    </tr>\n",
              "    <tr>\n",
              "      <th>1</th>\n",
              "      <td>758.00</td>\n",
              "      <td>770.00</td>\n",
              "      <td>682.422974</td>\n",
              "    </tr>\n",
              "    <tr>\n",
              "      <th>2</th>\n",
              "      <td>770.00</td>\n",
              "      <td>760.75</td>\n",
              "      <td>693.047913</td>\n",
              "    </tr>\n",
              "    <tr>\n",
              "      <th>3</th>\n",
              "      <td>760.75</td>\n",
              "      <td>746.00</td>\n",
              "      <td>684.857544</td>\n",
              "    </tr>\n",
              "    <tr>\n",
              "      <th>4</th>\n",
              "      <td>746.00</td>\n",
              "      <td>758.50</td>\n",
              "      <td>671.801880</td>\n",
              "    </tr>\n",
              "    <tr>\n",
              "      <th>...</th>\n",
              "      <td>...</td>\n",
              "      <td>...</td>\n",
              "      <td>...</td>\n",
              "    </tr>\n",
              "    <tr>\n",
              "      <th>237</th>\n",
              "      <td>712.75</td>\n",
              "      <td>733.00</td>\n",
              "      <td>642.392395</td>\n",
              "    </tr>\n",
              "    <tr>\n",
              "      <th>238</th>\n",
              "      <td>733.00</td>\n",
              "      <td>728.75</td>\n",
              "      <td>660.299927</td>\n",
              "    </tr>\n",
              "    <tr>\n",
              "      <th>239</th>\n",
              "      <td>728.75</td>\n",
              "      <td>728.25</td>\n",
              "      <td>656.540649</td>\n",
              "    </tr>\n",
              "    <tr>\n",
              "      <th>240</th>\n",
              "      <td>728.25</td>\n",
              "      <td>757.25</td>\n",
              "      <td>656.098450</td>\n",
              "    </tr>\n",
              "    <tr>\n",
              "      <th>241</th>\n",
              "      <td>757.25</td>\n",
              "      <td>753.50</td>\n",
              "      <td>681.758972</td>\n",
              "    </tr>\n",
              "  </tbody>\n",
              "</table>\n",
              "<p>242 rows × 3 columns</p>\n",
              "</div>\n",
              "      <button class=\"colab-df-convert\" onclick=\"convertToInteractive('df-825a5e22-f43e-4e58-96f9-91e306b78666')\"\n",
              "              title=\"Convert this dataframe to an interactive table.\"\n",
              "              style=\"display:none;\">\n",
              "        \n",
              "  <svg xmlns=\"http://www.w3.org/2000/svg\" height=\"24px\"viewBox=\"0 0 24 24\"\n",
              "       width=\"24px\">\n",
              "    <path d=\"M0 0h24v24H0V0z\" fill=\"none\"/>\n",
              "    <path d=\"M18.56 5.44l.94 2.06.94-2.06 2.06-.94-2.06-.94-.94-2.06-.94 2.06-2.06.94zm-11 1L8.5 8.5l.94-2.06 2.06-.94-2.06-.94L8.5 2.5l-.94 2.06-2.06.94zm10 10l.94 2.06.94-2.06 2.06-.94-2.06-.94-.94-2.06-.94 2.06-2.06.94z\"/><path d=\"M17.41 7.96l-1.37-1.37c-.4-.4-.92-.59-1.43-.59-.52 0-1.04.2-1.43.59L10.3 9.45l-7.72 7.72c-.78.78-.78 2.05 0 2.83L4 21.41c.39.39.9.59 1.41.59.51 0 1.02-.2 1.41-.59l7.78-7.78 2.81-2.81c.8-.78.8-2.07 0-2.86zM5.41 20L4 18.59l7.72-7.72 1.47 1.35L5.41 20z\"/>\n",
              "  </svg>\n",
              "      </button>\n",
              "      \n",
              "  <style>\n",
              "    .colab-df-container {\n",
              "      display:flex;\n",
              "      flex-wrap:wrap;\n",
              "      gap: 12px;\n",
              "    }\n",
              "\n",
              "    .colab-df-convert {\n",
              "      background-color: #E8F0FE;\n",
              "      border: none;\n",
              "      border-radius: 50%;\n",
              "      cursor: pointer;\n",
              "      display: none;\n",
              "      fill: #1967D2;\n",
              "      height: 32px;\n",
              "      padding: 0 0 0 0;\n",
              "      width: 32px;\n",
              "    }\n",
              "\n",
              "    .colab-df-convert:hover {\n",
              "      background-color: #E2EBFA;\n",
              "      box-shadow: 0px 1px 2px rgba(60, 64, 67, 0.3), 0px 1px 3px 1px rgba(60, 64, 67, 0.15);\n",
              "      fill: #174EA6;\n",
              "    }\n",
              "\n",
              "    [theme=dark] .colab-df-convert {\n",
              "      background-color: #3B4455;\n",
              "      fill: #D2E3FC;\n",
              "    }\n",
              "\n",
              "    [theme=dark] .colab-df-convert:hover {\n",
              "      background-color: #434B5C;\n",
              "      box-shadow: 0px 1px 3px 1px rgba(0, 0, 0, 0.15);\n",
              "      filter: drop-shadow(0px 1px 2px rgba(0, 0, 0, 0.3));\n",
              "      fill: #FFFFFF;\n",
              "    }\n",
              "  </style>\n",
              "\n",
              "      <script>\n",
              "        const buttonEl =\n",
              "          document.querySelector('#df-825a5e22-f43e-4e58-96f9-91e306b78666 button.colab-df-convert');\n",
              "        buttonEl.style.display =\n",
              "          google.colab.kernel.accessAllowed ? 'block' : 'none';\n",
              "\n",
              "        async function convertToInteractive(key) {\n",
              "          const element = document.querySelector('#df-825a5e22-f43e-4e58-96f9-91e306b78666');\n",
              "          const dataTable =\n",
              "            await google.colab.kernel.invokeFunction('convertToInteractive',\n",
              "                                                     [key], {});\n",
              "          if (!dataTable) return;\n",
              "\n",
              "          const docLinkHtml = 'Like what you see? Visit the ' +\n",
              "            '<a target=\"_blank\" href=https://colab.research.google.com/notebooks/data_table.ipynb>data table notebook</a>'\n",
              "            + ' to learn more about interactive tables.';\n",
              "          element.innerHTML = '';\n",
              "          dataTable['output_type'] = 'display_data';\n",
              "          await google.colab.output.renderOutput(dataTable, element);\n",
              "          const docLink = document.createElement('div');\n",
              "          docLink.innerHTML = docLinkHtml;\n",
              "          element.appendChild(docLink);\n",
              "        }\n",
              "      </script>\n",
              "    </div>\n",
              "  </div>\n",
              "  "
            ],
            "text/plain": [
              "     X_test  Y_test      Y_pred\n",
              "0    770.75  758.00  693.712158\n",
              "1    758.00  770.00  682.422974\n",
              "2    770.00  760.75  693.047913\n",
              "3    760.75  746.00  684.857544\n",
              "4    746.00  758.50  671.801880\n",
              "..      ...     ...         ...\n",
              "237  712.75  733.00  642.392395\n",
              "238  733.00  728.75  660.299927\n",
              "239  728.75  728.25  656.540649\n",
              "240  728.25  757.25  656.098450\n",
              "241  757.25  753.50  681.758972\n",
              "\n",
              "[242 rows x 3 columns]"
            ]
          },
          "execution_count": 83,
          "metadata": {},
          "output_type": "execute_result"
        }
      ],
      "source": [
        "y_pred = model.predict(X_test)\n",
        "res = pd.DataFrame({'X_test': np.array(X_test).reshape(X_test.shape[0]), \n",
        "                    'Y_test': np.array(y_test).reshape(y_test.shape[0]), \n",
        "                    'Y_pred': np.array(y_pred).reshape(y_pred.shape[0])})\n",
        "res"
      ]
    },
    {
      "cell_type": "code",
      "execution_count": 84,
      "id": "AbtkEGQ9Y5r9",
      "metadata": {
        "colab": {
          "base_uri": "https://localhost:8080/"
        },
        "id": "AbtkEGQ9Y5r9",
        "outputId": "5b5e4943-77b4-4f80-adf3-6f669b8f78b1"
      },
      "outputs": [
        {
          "name": "stdout",
          "output_type": "stream",
          "text": [
            "8/8 [==============================] - 0s 1ms/step - loss: 9745.4766\n"
          ]
        },
        {
          "data": {
            "text/plain": [
              "9745.4765625"
            ]
          },
          "execution_count": 84,
          "metadata": {},
          "output_type": "execute_result"
        }
      ],
      "source": [
        "model.evaluate(X_test, y_test, batch_size = 32) "
      ]
    },
    {
      "cell_type": "code",
      "execution_count": 85,
      "id": "jcFtYmP1ftRm",
      "metadata": {
        "colab": {
          "base_uri": "https://localhost:8080/",
          "height": 283
        },
        "id": "jcFtYmP1ftRm",
        "outputId": "7777a063-5a15-4156-adaa-29f531431d0f"
      },
      "outputs": [
        {
          "data": {
            "text/plain": [
              "<matplotlib.axes._subplots.AxesSubplot at 0x7f444271e8b0>"
            ]
          },
          "execution_count": 85,
          "metadata": {},
          "output_type": "execute_result"
        },
        {
          "data": {
            "image/png": "[encoded data removed]",
            "text/plain": [
              "<Figure size 432x288 with 1 Axes>"
            ]
          },
          "metadata": {
            "needs_background": "light"
          },
          "output_type": "display_data"
        }
      ],
      "source": [
        "res.plot()"
      ]
    },
    {
      "cell_type": "markdown",
      "id": "f2cd3167-d198-412b-a794-29e887e2250b",
      "metadata": {
        "id": "f2cd3167-d198-412b-a794-29e887e2250b"
      },
      "source": [
        "## Q4\n",
        "\n",
        "For this question, we are going to use [Consumer Complaints Dataset](https://raw.githubusercontent.com/plotly/datasets/master/26k-consumer-complaints.csv).\n",
        "\n",
        "1. Ingest the dataset. We are only going to use the columns `Issue` and `Timely Response?`.\n",
        "2. Convert the values in the issue column to vectors using [Count Vectorizer](https://scikit-learn.org/stable/modules/generated/sklearn.feature_extraction.text.CountVectorizer.html) from `scikit-learn`. Similarly, binarize the column `Timely Response` using [Label Binarizer](https://scikit-learn.org/stable/modules/generated/sklearn.preprocessing.LabelBinarizer.html).\n",
        "3. Split your dataset into train and test.\n",
        "3. Construct an an appropriate neural network model on the train set.\n",
        "4. Test your model on the test set. Did your model work? Explain."
      ]
    },
    {
      "cell_type": "code",
      "execution_count": 86,
      "id": "fef22860-09f6-49e7-a43f-feb83a3ed9db",
      "metadata": {
        "colab": {
          "base_uri": "https://localhost:8080/",
          "height": 206
        },
        "id": "fef22860-09f6-49e7-a43f-feb83a3ed9db",
        "outputId": "b0fb637d-20f2-4a56-bad2-45e5d5c6b799"
      },
      "outputs": [
        {
          "data": {
            "text/html": [
              "\n",
              "  <div id=\"df-da73b2f9-3fd6-4780-b807-4f351da2b6c9\">\n",
              "    <div class=\"colab-df-container\">\n",
              "      <div>\n",
              "<style scoped>\n",
              "    .dataframe tbody tr th:only-of-type {\n",
              "        vertical-align: middle;\n",
              "    }\n",
              "\n",
              "    .dataframe tbody tr th {\n",
              "        vertical-align: top;\n",
              "    }\n",
              "\n",
              "    .dataframe thead th {\n",
              "        text-align: right;\n",
              "    }\n",
              "</style>\n",
              "<table border=\"1\" class=\"dataframe\">\n",
              "  <thead>\n",
              "    <tr style=\"text-align: right;\">\n",
              "      <th></th>\n",
              "      <th>Issue</th>\n",
              "      <th>Timely response?</th>\n",
              "    </tr>\n",
              "  </thead>\n",
              "  <tbody>\n",
              "    <tr>\n",
              "      <th>0</th>\n",
              "      <td>Communication tactics</td>\n",
              "      <td>Yes</td>\n",
              "    </tr>\n",
              "    <tr>\n",
              "      <th>1</th>\n",
              "      <td>Cont'd attempts collect debt not owed</td>\n",
              "      <td>Yes</td>\n",
              "    </tr>\n",
              "    <tr>\n",
              "      <th>2</th>\n",
              "      <td>Application, originator, mortgage broker</td>\n",
              "      <td>Yes</td>\n",
              "    </tr>\n",
              "    <tr>\n",
              "      <th>3</th>\n",
              "      <td>Other</td>\n",
              "      <td>Yes</td>\n",
              "    </tr>\n",
              "    <tr>\n",
              "      <th>4</th>\n",
              "      <td>Cont'd attempts collect debt not owed</td>\n",
              "      <td>Yes</td>\n",
              "    </tr>\n",
              "  </tbody>\n",
              "</table>\n",
              "</div>\n",
              "      <button class=\"colab-df-convert\" onclick=\"convertToInteractive('df-da73b2f9-3fd6-4780-b807-4f351da2b6c9')\"\n",
              "              title=\"Convert this dataframe to an interactive table.\"\n",
              "              style=\"display:none;\">\n",
              "        \n",
              "  <svg xmlns=\"http://www.w3.org/2000/svg\" height=\"24px\"viewBox=\"0 0 24 24\"\n",
              "       width=\"24px\">\n",
              "    <path d=\"M0 0h24v24H0V0z\" fill=\"none\"/>\n",
              "    <path d=\"M18.56 5.44l.94 2.06.94-2.06 2.06-.94-2.06-.94-.94-2.06-.94 2.06-2.06.94zm-11 1L8.5 8.5l.94-2.06 2.06-.94-2.06-.94L8.5 2.5l-.94 2.06-2.06.94zm10 10l.94 2.06.94-2.06 2.06-.94-2.06-.94-.94-2.06-.94 2.06-2.06.94z\"/><path d=\"M17.41 7.96l-1.37-1.37c-.4-.4-.92-.59-1.43-.59-.52 0-1.04.2-1.43.59L10.3 9.45l-7.72 7.72c-.78.78-.78 2.05 0 2.83L4 21.41c.39.39.9.59 1.41.59.51 0 1.02-.2 1.41-.59l7.78-7.78 2.81-2.81c.8-.78.8-2.07 0-2.86zM5.41 20L4 18.59l7.72-7.72 1.47 1.35L5.41 20z\"/>\n",
              "  </svg>\n",
              "      </button>\n",
              "      \n",
              "  <style>\n",
              "    .colab-df-container {\n",
              "      display:flex;\n",
              "      flex-wrap:wrap;\n",
              "      gap: 12px;\n",
              "    }\n",
              "\n",
              "    .colab-df-convert {\n",
              "      background-color: #E8F0FE;\n",
              "      border: none;\n",
              "      border-radius: 50%;\n",
              "      cursor: pointer;\n",
              "      display: none;\n",
              "      fill: #1967D2;\n",
              "      height: 32px;\n",
              "      padding: 0 0 0 0;\n",
              "      width: 32px;\n",
              "    }\n",
              "\n",
              "    .colab-df-convert:hover {\n",
              "      background-color: #E2EBFA;\n",
              "      box-shadow: 0px 1px 2px rgba(60, 64, 67, 0.3), 0px 1px 3px 1px rgba(60, 64, 67, 0.15);\n",
              "      fill: #174EA6;\n",
              "    }\n",
              "\n",
              "    [theme=dark] .colab-df-convert {\n",
              "      background-color: #3B4455;\n",
              "      fill: #D2E3FC;\n",
              "    }\n",
              "\n",
              "    [theme=dark] .colab-df-convert:hover {\n",
              "      background-color: #434B5C;\n",
              "      box-shadow: 0px 1px 3px 1px rgba(0, 0, 0, 0.15);\n",
              "      filter: drop-shadow(0px 1px 2px rgba(0, 0, 0, 0.3));\n",
              "      fill: #FFFFFF;\n",
              "    }\n",
              "  </style>\n",
              "\n",
              "      <script>\n",
              "        const buttonEl =\n",
              "          document.querySelector('#df-da73b2f9-3fd6-4780-b807-4f351da2b6c9 button.colab-df-convert');\n",
              "        buttonEl.style.display =\n",
              "          google.colab.kernel.accessAllowed ? 'block' : 'none';\n",
              "\n",
              "        async function convertToInteractive(key) {\n",
              "          const element = document.querySelector('#df-da73b2f9-3fd6-4780-b807-4f351da2b6c9');\n",
              "          const dataTable =\n",
              "            await google.colab.kernel.invokeFunction('convertToInteractive',\n",
              "                                                     [key], {});\n",
              "          if (!dataTable) return;\n",
              "\n",
              "          const docLinkHtml = 'Like what you see? Visit the ' +\n",
              "            '<a target=\"_blank\" href=https://colab.research.google.com/notebooks/data_table.ipynb>data table notebook</a>'\n",
              "            + ' to learn more about interactive tables.';\n",
              "          element.innerHTML = '';\n",
              "          dataTable['output_type'] = 'display_data';\n",
              "          await google.colab.output.renderOutput(dataTable, element);\n",
              "          const docLink = document.createElement('div');\n",
              "          docLink.innerHTML = docLinkHtml;\n",
              "          element.appendChild(docLink);\n",
              "        }\n",
              "      </script>\n",
              "    </div>\n",
              "  </div>\n",
              "  "
            ],
            "text/plain": [
              "                                      Issue Timely response?\n",
              "0                     Communication tactics              Yes\n",
              "1     Cont'd attempts collect debt not owed              Yes\n",
              "2  Application, originator, mortgage broker              Yes\n",
              "3                                     Other              Yes\n",
              "4     Cont'd attempts collect debt not owed              Yes"
            ]
          },
          "execution_count": 86,
          "metadata": {},
          "output_type": "execute_result"
        }
      ],
      "source": [
        "complaints = pd.read_csv('https://raw.githubusercontent.com/plotly/datasets/master/26k-consumer-complaints.csv')\n",
        "data = complaints[['Issue', 'Timely response?']].dropna()\n",
        "data.head()"
      ]
    },
    {
      "cell_type": "code",
      "execution_count": 87,
      "id": "jKMxf4lRSIhs",
      "metadata": {
        "id": "jKMxf4lRSIhs"
      },
      "outputs": [],
      "source": [
        "vectorizer = CountVectorizer()\n",
        "X = vectorizer.fit_transform(data['Issue']).toarray()\n",
        "\n",
        "\n",
        "labeler= LabelBinarizer()\n",
        "\n",
        "y = data['Timely response?'].values\n",
        "y_binarized = labeler.fit_transform(y)"
      ]
    },
    {
      "cell_type": "code",
      "execution_count": 89,
      "id": "GoPmeDLwT7e_",
      "metadata": {
        "id": "GoPmeDLwT7e_"
      },
      "outputs": [],
      "source": [
        "X_train, X_test, y_train, y_test = train_test_split(X, y_binarized, test_size=0.25, random_state=42)\n"
      ]
    },
    {
      "cell_type": "code",
      "execution_count": 91,
      "id": "pZJZd1a6WY6k",
      "metadata": {
        "colab": {
          "base_uri": "https://localhost:8080/"
        },
        "id": "pZJZd1a6WY6k",
        "outputId": "f87ae1bc-04e8-403c-8200-0450cb4d44e1"
      },
      "outputs": [
        {
          "name": "stdout",
          "output_type": "stream",
          "text": [
            "Epoch 1/10\n",
            "330/330 [==============================] - 2s 5ms/step - loss: 0.1268 - accuracy: 0.9728 - val_loss: 0.1091 - val_accuracy: 0.9736\n",
            "Epoch 2/10\n",
            "330/330 [==============================] - 1s 2ms/step - loss: 0.1047 - accuracy: 0.9751 - val_loss: 0.1088 - val_accuracy: 0.9736\n",
            "Epoch 3/10\n",
            "330/330 [==============================] - 1s 2ms/step - loss: 0.1038 - accuracy: 0.9751 - val_loss: 0.1089 - val_accuracy: 0.9736\n",
            "Epoch 4/10\n",
            "330/330 [==============================] - 1s 2ms/step - loss: 0.1035 - accuracy: 0.9751 - val_loss: 0.1100 - val_accuracy: 0.9736\n",
            "Epoch 5/10\n",
            "330/330 [==============================] - 1s 2ms/step - loss: 0.1033 - accuracy: 0.9751 - val_loss: 0.1106 - val_accuracy: 0.9736\n",
            "Epoch 6/10\n",
            "330/330 [==============================] - 1s 2ms/step - loss: 0.1035 - accuracy: 0.9751 - val_loss: 0.1092 - val_accuracy: 0.9736\n",
            "Epoch 7/10\n",
            "330/330 [==============================] - 1s 2ms/step - loss: 0.1031 - accuracy: 0.9751 - val_loss: 0.1090 - val_accuracy: 0.9736\n",
            "Epoch 8/10\n",
            "330/330 [==============================] - 1s 2ms/step - loss: 0.1032 - accuracy: 0.9751 - val_loss: 0.1088 - val_accuracy: 0.9736\n",
            "Epoch 9/10\n",
            "330/330 [==============================] - 1s 2ms/step - loss: 0.1031 - accuracy: 0.9751 - val_loss: 0.1084 - val_accuracy: 0.9736\n",
            "Epoch 10/10\n",
            "330/330 [==============================] - 1s 2ms/step - loss: 0.1029 - accuracy: 0.9751 - val_loss: 0.1084 - val_accuracy: 0.9736\n"
          ]
        },
        {
          "data": {
            "text/plain": [
              "<keras.callbacks.History at 0x7f443ff5b7c0>"
            ]
          },
          "execution_count": 91,
          "metadata": {},
          "output_type": "execute_result"
        }
      ],
      "source": [
        "model = Sequential()\n",
        "model.add(Dense(256, input_shape=(X_train.shape[-1],), activation='relu'))\n",
        "model.add(Dense(32, activation=\"relu\"))\n",
        "model.add(Dense(1, activation='sigmoid'))\n",
        "\n",
        "model.compile(loss = 'binary_crossentropy', \n",
        "              metrics = ['accuracy'],\n",
        "              optimizer = 'adam')\n",
        "\n",
        "model.fit(X_train, y_train,\n",
        "          batch_size = 64,\n",
        "          epochs = 10,\n",
        "          validation_data = (X_test, y_test))"
      ]
    },
    {
      "cell_type": "code",
      "execution_count": 97,
      "id": "wcutTEgQgWxk",
      "metadata": {
        "colab": {
          "base_uri": "https://localhost:8080/"
        },
        "id": "wcutTEgQgWxk",
        "outputId": "90331f1b-aa79-440e-f928-a98ff0b36261"
      },
      "outputs": [
        {
          "name": "stdout",
          "output_type": "stream",
          "text": [
            "220/220 [==============================] - 0s 998us/step - loss: 0.1084 - accuracy: 0.9736\n"
          ]
        },
        {
          "data": {
            "text/plain": [
              "[0.10838085412979126, 0.97357577085495]"
            ]
          },
          "execution_count": 97,
          "metadata": {},
          "output_type": "execute_result"
        }
      ],
      "source": [
        "model.evaluate(X_test, y_test, batch_size = 32) "
      ]
    }
  ],
  "metadata": {
    "colab": {
      "provenance": []
    },
    "kernelspec": {
      "display_name": "Python 3.9.7 ('base')",
      "language": "python",
      "name": "python3"
    },
    "language_info": {
      "codemirror_mode": {
        "name": "ipython",
        "version": 3
      },
      "file_extension": ".py",
      "mimetype": "text/x-python",
      "name": "python",
      "nbconvert_exporter": "python",
      "pygments_lexer": "ipython3",
      "version": "3.9.7"
    },
    "vscode": {
      "interpreter": {
        "hash": "aff7775e24516a53c0c62b1866defe95fef783f2c2c084a8a0386ea6dd42844c"
      }
    }
  },
  "nbformat": 4,
  "nbformat_minor": 5
}
